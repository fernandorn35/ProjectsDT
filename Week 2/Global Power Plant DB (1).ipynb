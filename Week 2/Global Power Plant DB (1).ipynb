{
 "cells": [
  {
   "cell_type": "code",
   "execution_count": 1,
   "id": "14789a2c",
   "metadata": {},
   "outputs": [],
   "source": [
    "import pandas as pd\n",
    "import numpy as np\n",
    "\n",
    "import matplotlib.pyplot as plt\n",
    "import seaborn as sns\n",
    "import missingno as msno\n",
    "\n",
    "from sklearn.preprocessing import OrdinalEncoder"
   ]
  },
  {
   "cell_type": "code",
   "execution_count": 2,
   "id": "992f892c",
   "metadata": {},
   "outputs": [],
   "source": [
    "power = pd.read_csv('database_IND.csv')"
   ]
  },
  {
   "cell_type": "code",
   "execution_count": 3,
   "id": "1a1dee78",
   "metadata": {},
   "outputs": [
    {
     "data": {
      "text/html": [
       "<div>\n",
       "<style scoped>\n",
       "    .dataframe tbody tr th:only-of-type {\n",
       "        vertical-align: middle;\n",
       "    }\n",
       "\n",
       "    .dataframe tbody tr th {\n",
       "        vertical-align: top;\n",
       "    }\n",
       "\n",
       "    .dataframe thead th {\n",
       "        text-align: right;\n",
       "    }\n",
       "</style>\n",
       "<table border=\"1\" class=\"dataframe\">\n",
       "  <thead>\n",
       "    <tr style=\"text-align: right;\">\n",
       "      <th></th>\n",
       "      <th>country</th>\n",
       "      <th>country_long</th>\n",
       "      <th>name</th>\n",
       "      <th>gppd_idnr</th>\n",
       "      <th>capacity_mw</th>\n",
       "      <th>latitude</th>\n",
       "      <th>longitude</th>\n",
       "      <th>primary_fuel</th>\n",
       "      <th>other_fuel1</th>\n",
       "      <th>other_fuel2</th>\n",
       "      <th>...</th>\n",
       "      <th>year_of_capacity_data</th>\n",
       "      <th>generation_gwh_2013</th>\n",
       "      <th>generation_gwh_2014</th>\n",
       "      <th>generation_gwh_2015</th>\n",
       "      <th>generation_gwh_2016</th>\n",
       "      <th>generation_gwh_2017</th>\n",
       "      <th>generation_gwh_2018</th>\n",
       "      <th>generation_gwh_2019</th>\n",
       "      <th>generation_data_source</th>\n",
       "      <th>estimated_generation_gwh</th>\n",
       "    </tr>\n",
       "  </thead>\n",
       "  <tbody>\n",
       "    <tr>\n",
       "      <th>0</th>\n",
       "      <td>IND</td>\n",
       "      <td>India</td>\n",
       "      <td>ACME Solar Tower</td>\n",
       "      <td>WRI1020239</td>\n",
       "      <td>2.5</td>\n",
       "      <td>28.1839</td>\n",
       "      <td>73.2407</td>\n",
       "      <td>Solar</td>\n",
       "      <td>NaN</td>\n",
       "      <td>NaN</td>\n",
       "      <td>...</td>\n",
       "      <td>NaN</td>\n",
       "      <td>NaN</td>\n",
       "      <td>NaN</td>\n",
       "      <td>NaN</td>\n",
       "      <td>NaN</td>\n",
       "      <td>NaN</td>\n",
       "      <td>NaN</td>\n",
       "      <td>NaN</td>\n",
       "      <td>NaN</td>\n",
       "      <td>NaN</td>\n",
       "    </tr>\n",
       "    <tr>\n",
       "      <th>1</th>\n",
       "      <td>IND</td>\n",
       "      <td>India</td>\n",
       "      <td>ADITYA CEMENT WORKS</td>\n",
       "      <td>WRI1019881</td>\n",
       "      <td>98.0</td>\n",
       "      <td>24.7663</td>\n",
       "      <td>74.6090</td>\n",
       "      <td>Coal</td>\n",
       "      <td>NaN</td>\n",
       "      <td>NaN</td>\n",
       "      <td>...</td>\n",
       "      <td>NaN</td>\n",
       "      <td>NaN</td>\n",
       "      <td>NaN</td>\n",
       "      <td>NaN</td>\n",
       "      <td>NaN</td>\n",
       "      <td>NaN</td>\n",
       "      <td>NaN</td>\n",
       "      <td>NaN</td>\n",
       "      <td>NaN</td>\n",
       "      <td>NaN</td>\n",
       "    </tr>\n",
       "    <tr>\n",
       "      <th>2</th>\n",
       "      <td>IND</td>\n",
       "      <td>India</td>\n",
       "      <td>AES Saurashtra Windfarms</td>\n",
       "      <td>WRI1026669</td>\n",
       "      <td>39.2</td>\n",
       "      <td>21.9038</td>\n",
       "      <td>69.3732</td>\n",
       "      <td>Wind</td>\n",
       "      <td>NaN</td>\n",
       "      <td>NaN</td>\n",
       "      <td>...</td>\n",
       "      <td>NaN</td>\n",
       "      <td>NaN</td>\n",
       "      <td>NaN</td>\n",
       "      <td>NaN</td>\n",
       "      <td>NaN</td>\n",
       "      <td>NaN</td>\n",
       "      <td>NaN</td>\n",
       "      <td>NaN</td>\n",
       "      <td>NaN</td>\n",
       "      <td>NaN</td>\n",
       "    </tr>\n",
       "    <tr>\n",
       "      <th>3</th>\n",
       "      <td>IND</td>\n",
       "      <td>India</td>\n",
       "      <td>AGARTALA GT</td>\n",
       "      <td>IND0000001</td>\n",
       "      <td>135.0</td>\n",
       "      <td>23.8712</td>\n",
       "      <td>91.3602</td>\n",
       "      <td>Gas</td>\n",
       "      <td>NaN</td>\n",
       "      <td>NaN</td>\n",
       "      <td>...</td>\n",
       "      <td>2019.0</td>\n",
       "      <td>NaN</td>\n",
       "      <td>617.789264</td>\n",
       "      <td>843.747000</td>\n",
       "      <td>886.004428</td>\n",
       "      <td>663.774500</td>\n",
       "      <td>626.239128</td>\n",
       "      <td>NaN</td>\n",
       "      <td>Central Electricity Authority</td>\n",
       "      <td>NaN</td>\n",
       "    </tr>\n",
       "    <tr>\n",
       "      <th>4</th>\n",
       "      <td>IND</td>\n",
       "      <td>India</td>\n",
       "      <td>AKALTARA TPP</td>\n",
       "      <td>IND0000002</td>\n",
       "      <td>1800.0</td>\n",
       "      <td>21.9603</td>\n",
       "      <td>82.4091</td>\n",
       "      <td>Coal</td>\n",
       "      <td>Oil</td>\n",
       "      <td>NaN</td>\n",
       "      <td>...</td>\n",
       "      <td>2019.0</td>\n",
       "      <td>NaN</td>\n",
       "      <td>3035.550000</td>\n",
       "      <td>5916.370000</td>\n",
       "      <td>6243.000000</td>\n",
       "      <td>5385.579736</td>\n",
       "      <td>7279.000000</td>\n",
       "      <td>NaN</td>\n",
       "      <td>Central Electricity Authority</td>\n",
       "      <td>NaN</td>\n",
       "    </tr>\n",
       "    <tr>\n",
       "      <th>...</th>\n",
       "      <td>...</td>\n",
       "      <td>...</td>\n",
       "      <td>...</td>\n",
       "      <td>...</td>\n",
       "      <td>...</td>\n",
       "      <td>...</td>\n",
       "      <td>...</td>\n",
       "      <td>...</td>\n",
       "      <td>...</td>\n",
       "      <td>...</td>\n",
       "      <td>...</td>\n",
       "      <td>...</td>\n",
       "      <td>...</td>\n",
       "      <td>...</td>\n",
       "      <td>...</td>\n",
       "      <td>...</td>\n",
       "      <td>...</td>\n",
       "      <td>...</td>\n",
       "      <td>...</td>\n",
       "      <td>...</td>\n",
       "      <td>...</td>\n",
       "    </tr>\n",
       "    <tr>\n",
       "      <th>902</th>\n",
       "      <td>IND</td>\n",
       "      <td>India</td>\n",
       "      <td>YERMARUS TPP</td>\n",
       "      <td>IND0000513</td>\n",
       "      <td>1600.0</td>\n",
       "      <td>16.2949</td>\n",
       "      <td>77.3568</td>\n",
       "      <td>Coal</td>\n",
       "      <td>Oil</td>\n",
       "      <td>NaN</td>\n",
       "      <td>...</td>\n",
       "      <td>2019.0</td>\n",
       "      <td>NaN</td>\n",
       "      <td>NaN</td>\n",
       "      <td>0.994875</td>\n",
       "      <td>233.596650</td>\n",
       "      <td>865.400000</td>\n",
       "      <td>686.500000</td>\n",
       "      <td>NaN</td>\n",
       "      <td>Central Electricity Authority</td>\n",
       "      <td>NaN</td>\n",
       "    </tr>\n",
       "    <tr>\n",
       "      <th>903</th>\n",
       "      <td>IND</td>\n",
       "      <td>India</td>\n",
       "      <td>Yelesandra Solar Power Plant</td>\n",
       "      <td>WRI1026222</td>\n",
       "      <td>3.0</td>\n",
       "      <td>12.8932</td>\n",
       "      <td>78.1654</td>\n",
       "      <td>Solar</td>\n",
       "      <td>NaN</td>\n",
       "      <td>NaN</td>\n",
       "      <td>...</td>\n",
       "      <td>NaN</td>\n",
       "      <td>NaN</td>\n",
       "      <td>NaN</td>\n",
       "      <td>NaN</td>\n",
       "      <td>NaN</td>\n",
       "      <td>NaN</td>\n",
       "      <td>NaN</td>\n",
       "      <td>NaN</td>\n",
       "      <td>NaN</td>\n",
       "      <td>NaN</td>\n",
       "    </tr>\n",
       "    <tr>\n",
       "      <th>904</th>\n",
       "      <td>IND</td>\n",
       "      <td>India</td>\n",
       "      <td>Yelisirur wind power project</td>\n",
       "      <td>WRI1026776</td>\n",
       "      <td>25.5</td>\n",
       "      <td>15.2758</td>\n",
       "      <td>75.5811</td>\n",
       "      <td>Wind</td>\n",
       "      <td>NaN</td>\n",
       "      <td>NaN</td>\n",
       "      <td>...</td>\n",
       "      <td>NaN</td>\n",
       "      <td>NaN</td>\n",
       "      <td>NaN</td>\n",
       "      <td>NaN</td>\n",
       "      <td>NaN</td>\n",
       "      <td>NaN</td>\n",
       "      <td>NaN</td>\n",
       "      <td>NaN</td>\n",
       "      <td>NaN</td>\n",
       "      <td>NaN</td>\n",
       "    </tr>\n",
       "    <tr>\n",
       "      <th>905</th>\n",
       "      <td>IND</td>\n",
       "      <td>India</td>\n",
       "      <td>ZAWAR MINES</td>\n",
       "      <td>WRI1019901</td>\n",
       "      <td>80.0</td>\n",
       "      <td>24.3500</td>\n",
       "      <td>73.7477</td>\n",
       "      <td>Coal</td>\n",
       "      <td>NaN</td>\n",
       "      <td>NaN</td>\n",
       "      <td>...</td>\n",
       "      <td>NaN</td>\n",
       "      <td>NaN</td>\n",
       "      <td>NaN</td>\n",
       "      <td>NaN</td>\n",
       "      <td>NaN</td>\n",
       "      <td>NaN</td>\n",
       "      <td>NaN</td>\n",
       "      <td>NaN</td>\n",
       "      <td>NaN</td>\n",
       "      <td>NaN</td>\n",
       "    </tr>\n",
       "    <tr>\n",
       "      <th>906</th>\n",
       "      <td>IND</td>\n",
       "      <td>India</td>\n",
       "      <td>iEnergy Theni Wind Farm</td>\n",
       "      <td>WRI1026761</td>\n",
       "      <td>16.5</td>\n",
       "      <td>9.9344</td>\n",
       "      <td>77.4768</td>\n",
       "      <td>Wind</td>\n",
       "      <td>NaN</td>\n",
       "      <td>NaN</td>\n",
       "      <td>...</td>\n",
       "      <td>NaN</td>\n",
       "      <td>NaN</td>\n",
       "      <td>NaN</td>\n",
       "      <td>NaN</td>\n",
       "      <td>NaN</td>\n",
       "      <td>NaN</td>\n",
       "      <td>NaN</td>\n",
       "      <td>NaN</td>\n",
       "      <td>NaN</td>\n",
       "      <td>NaN</td>\n",
       "    </tr>\n",
       "  </tbody>\n",
       "</table>\n",
       "<p>907 rows × 27 columns</p>\n",
       "</div>"
      ],
      "text/plain": [
       "    country country_long                          name   gppd_idnr  \\\n",
       "0       IND        India              ACME Solar Tower  WRI1020239   \n",
       "1       IND        India           ADITYA CEMENT WORKS  WRI1019881   \n",
       "2       IND        India      AES Saurashtra Windfarms  WRI1026669   \n",
       "3       IND        India                   AGARTALA GT  IND0000001   \n",
       "4       IND        India                  AKALTARA TPP  IND0000002   \n",
       "..      ...          ...                           ...         ...   \n",
       "902     IND        India                  YERMARUS TPP  IND0000513   \n",
       "903     IND        India  Yelesandra Solar Power Plant  WRI1026222   \n",
       "904     IND        India  Yelisirur wind power project  WRI1026776   \n",
       "905     IND        India                   ZAWAR MINES  WRI1019901   \n",
       "906     IND        India       iEnergy Theni Wind Farm  WRI1026761   \n",
       "\n",
       "     capacity_mw  latitude  longitude primary_fuel other_fuel1 other_fuel2  \\\n",
       "0            2.5   28.1839    73.2407        Solar         NaN         NaN   \n",
       "1           98.0   24.7663    74.6090         Coal         NaN         NaN   \n",
       "2           39.2   21.9038    69.3732         Wind         NaN         NaN   \n",
       "3          135.0   23.8712    91.3602          Gas         NaN         NaN   \n",
       "4         1800.0   21.9603    82.4091         Coal         Oil         NaN   \n",
       "..           ...       ...        ...          ...         ...         ...   \n",
       "902       1600.0   16.2949    77.3568         Coal         Oil         NaN   \n",
       "903          3.0   12.8932    78.1654        Solar         NaN         NaN   \n",
       "904         25.5   15.2758    75.5811         Wind         NaN         NaN   \n",
       "905         80.0   24.3500    73.7477         Coal         NaN         NaN   \n",
       "906         16.5    9.9344    77.4768         Wind         NaN         NaN   \n",
       "\n",
       "     ...  year_of_capacity_data  generation_gwh_2013 generation_gwh_2014  \\\n",
       "0    ...                    NaN                  NaN                 NaN   \n",
       "1    ...                    NaN                  NaN                 NaN   \n",
       "2    ...                    NaN                  NaN                 NaN   \n",
       "3    ...                 2019.0                  NaN          617.789264   \n",
       "4    ...                 2019.0                  NaN         3035.550000   \n",
       "..   ...                    ...                  ...                 ...   \n",
       "902  ...                 2019.0                  NaN                 NaN   \n",
       "903  ...                    NaN                  NaN                 NaN   \n",
       "904  ...                    NaN                  NaN                 NaN   \n",
       "905  ...                    NaN                  NaN                 NaN   \n",
       "906  ...                    NaN                  NaN                 NaN   \n",
       "\n",
       "    generation_gwh_2015 generation_gwh_2016 generation_gwh_2017  \\\n",
       "0                   NaN                 NaN                 NaN   \n",
       "1                   NaN                 NaN                 NaN   \n",
       "2                   NaN                 NaN                 NaN   \n",
       "3            843.747000          886.004428          663.774500   \n",
       "4           5916.370000         6243.000000         5385.579736   \n",
       "..                  ...                 ...                 ...   \n",
       "902            0.994875          233.596650          865.400000   \n",
       "903                 NaN                 NaN                 NaN   \n",
       "904                 NaN                 NaN                 NaN   \n",
       "905                 NaN                 NaN                 NaN   \n",
       "906                 NaN                 NaN                 NaN   \n",
       "\n",
       "     generation_gwh_2018  generation_gwh_2019         generation_data_source  \\\n",
       "0                    NaN                  NaN                            NaN   \n",
       "1                    NaN                  NaN                            NaN   \n",
       "2                    NaN                  NaN                            NaN   \n",
       "3             626.239128                  NaN  Central Electricity Authority   \n",
       "4            7279.000000                  NaN  Central Electricity Authority   \n",
       "..                   ...                  ...                            ...   \n",
       "902           686.500000                  NaN  Central Electricity Authority   \n",
       "903                  NaN                  NaN                            NaN   \n",
       "904                  NaN                  NaN                            NaN   \n",
       "905                  NaN                  NaN                            NaN   \n",
       "906                  NaN                  NaN                            NaN   \n",
       "\n",
       "     estimated_generation_gwh  \n",
       "0                         NaN  \n",
       "1                         NaN  \n",
       "2                         NaN  \n",
       "3                         NaN  \n",
       "4                         NaN  \n",
       "..                        ...  \n",
       "902                       NaN  \n",
       "903                       NaN  \n",
       "904                       NaN  \n",
       "905                       NaN  \n",
       "906                       NaN  \n",
       "\n",
       "[907 rows x 27 columns]"
      ]
     },
     "execution_count": 3,
     "metadata": {},
     "output_type": "execute_result"
    }
   ],
   "source": [
    "power"
   ]
  },
  {
   "cell_type": "code",
   "execution_count": 4,
   "id": "37e0d695",
   "metadata": {},
   "outputs": [
    {
     "name": "stdout",
     "output_type": "stream",
     "text": [
      "<class 'pandas.core.frame.DataFrame'>\n",
      "RangeIndex: 907 entries, 0 to 906\n",
      "Data columns (total 27 columns):\n",
      " #   Column                    Non-Null Count  Dtype  \n",
      "---  ------                    --------------  -----  \n",
      " 0   country                   907 non-null    object \n",
      " 1   country_long              907 non-null    object \n",
      " 2   name                      907 non-null    object \n",
      " 3   gppd_idnr                 907 non-null    object \n",
      " 4   capacity_mw               907 non-null    float64\n",
      " 5   latitude                  861 non-null    float64\n",
      " 6   longitude                 861 non-null    float64\n",
      " 7   primary_fuel              907 non-null    object \n",
      " 8   other_fuel1               198 non-null    object \n",
      " 9   other_fuel2               1 non-null      object \n",
      " 10  other_fuel3               0 non-null      float64\n",
      " 11  commissioning_year        527 non-null    float64\n",
      " 12  owner                     342 non-null    object \n",
      " 13  source                    907 non-null    object \n",
      " 14  url                       907 non-null    object \n",
      " 15  geolocation_source        888 non-null    object \n",
      " 16  wepp_id                   0 non-null      float64\n",
      " 17  year_of_capacity_data     519 non-null    float64\n",
      " 18  generation_gwh_2013       0 non-null      float64\n",
      " 19  generation_gwh_2014       398 non-null    float64\n",
      " 20  generation_gwh_2015       422 non-null    float64\n",
      " 21  generation_gwh_2016       434 non-null    float64\n",
      " 22  generation_gwh_2017       440 non-null    float64\n",
      " 23  generation_gwh_2018       448 non-null    float64\n",
      " 24  generation_gwh_2019       0 non-null      float64\n",
      " 25  generation_data_source    449 non-null    object \n",
      " 26  estimated_generation_gwh  0 non-null      float64\n",
      "dtypes: float64(15), object(12)\n",
      "memory usage: 191.4+ KB\n"
     ]
    }
   ],
   "source": [
    "power.info()"
   ]
  },
  {
   "cell_type": "code",
   "execution_count": 5,
   "id": "095ad7c4",
   "metadata": {},
   "outputs": [
    {
     "name": "stdout",
     "output_type": "stream",
     "text": [
      "Coal       258\n",
      "Hydro      251\n",
      "Solar      127\n",
      "Wind       123\n",
      "Gas         69\n",
      "Biomass     50\n",
      "Oil         20\n",
      "Nuclear      9\n",
      "Name: primary_fuel, dtype: int64\n"
     ]
    }
   ],
   "source": [
    "print(power['primary_fuel'].value_counts())"
   ]
  },
  {
   "cell_type": "code",
   "execution_count": 6,
   "id": "88bf1da1",
   "metadata": {},
   "outputs": [
    {
     "name": "stdout",
     "output_type": "stream",
     "text": [
      "Oil             195\n",
      "Gas               2\n",
      "Cogeneration      1\n",
      "Name: other_fuel1, dtype: int64\n"
     ]
    }
   ],
   "source": [
    "print(power['other_fuel1'].value_counts())"
   ]
  },
  {
   "cell_type": "code",
   "execution_count": 7,
   "id": "16ef0ad5",
   "metadata": {},
   "outputs": [
    {
     "data": {
      "text/plain": [
       "Oil    1\n",
       "Name: other_fuel2, dtype: int64"
      ]
     },
     "execution_count": 7,
     "metadata": {},
     "output_type": "execute_result"
    }
   ],
   "source": [
    "power['other_fuel2'].value_counts()"
   ]
  },
  {
   "cell_type": "code",
   "execution_count": 8,
   "id": "2644bf59",
   "metadata": {},
   "outputs": [
    {
     "name": "stdout",
     "output_type": "stream",
     "text": [
      "Series([], Name: other_fuel3, dtype: int64)\n"
     ]
    }
   ],
   "source": [
    "print(power['other_fuel3'].value_counts())"
   ]
  },
  {
   "cell_type": "code",
   "execution_count": 9,
   "id": "be0d7426",
   "metadata": {},
   "outputs": [
    {
     "name": "stdout",
     "output_type": "stream",
     "text": [
      "Series([], Name: other_fuel3, dtype: int64)\n"
     ]
    }
   ],
   "source": [
    "print(power['other_fuel3'].value_counts())"
   ]
  },
  {
   "cell_type": "code",
   "execution_count": 10,
   "id": "18dc032a",
   "metadata": {},
   "outputs": [
    {
     "data": {
      "text/plain": [
       "IND    907\n",
       "Name: country, dtype: int64"
      ]
     },
     "execution_count": 10,
     "metadata": {},
     "output_type": "execute_result"
    }
   ],
   "source": [
    "power['country'].value_counts()"
   ]
  },
  {
   "cell_type": "code",
   "execution_count": 11,
   "id": "9c6385e0",
   "metadata": {},
   "outputs": [
    {
     "data": {
      "text/plain": [
       "Acc Acc ltd                                                    4\n",
       "Sterling Agro Industries ltd.                                  4\n",
       "Jk Cement ltd                                                  4\n",
       "SWPPL                                                          3\n",
       "Jaypee Ltd jccl)                                               3\n",
       "                                                              ..\n",
       "Sunkon Energy Private Limited                                  1\n",
       "West Bengal Energy Development Corporation Limited (WBEDCL)    1\n",
       "Energy Infratech Private Limited                               1\n",
       "K. N. Ram                                                      1\n",
       "iEnergy Wind Farms                                             1\n",
       "Name: owner, Length: 280, dtype: int64"
      ]
     },
     "execution_count": 11,
     "metadata": {},
     "output_type": "execute_result"
    }
   ],
   "source": [
    "power['owner'].value_counts()"
   ]
  },
  {
   "cell_type": "code",
   "execution_count": 12,
   "id": "aca1c93c",
   "metadata": {},
   "outputs": [
    {
     "data": {
      "text/plain": [
       "0      http://www.nrel.gov/csp/solarpaces/project_det...\n",
       "1                        http://www.ultratechcement.com/\n",
       "2      https://cdm.unfccc.int/Projects/DB/DNV-CUK1328...\n",
       "3                                 http://www.cea.nic.in/\n",
       "4                                 http://www.cea.nic.in/\n",
       "                             ...                        \n",
       "902                               http://www.cea.nic.in/\n",
       "903                            http://karnatakapower.com\n",
       "904    https://cdm.unfccc.int/Projects/DB/TUEV-RHEIN1...\n",
       "905                             http://www.hzlindia.com/\n",
       "906    https://cdm.unfccc.int/Projects/DB/RWTUV134503...\n",
       "Name: url, Length: 907, dtype: object"
      ]
     },
     "execution_count": 12,
     "metadata": {},
     "output_type": "execute_result"
    }
   ],
   "source": [
    "power['url']"
   ]
  },
  {
   "cell_type": "code",
   "execution_count": 13,
   "id": "bab57339",
   "metadata": {},
   "outputs": [
    {
     "data": {
      "text/plain": [
       "0                                NaN\n",
       "1                                NaN\n",
       "2                                NaN\n",
       "3      Central Electricity Authority\n",
       "4      Central Electricity Authority\n",
       "                   ...              \n",
       "902    Central Electricity Authority\n",
       "903                              NaN\n",
       "904                              NaN\n",
       "905                              NaN\n",
       "906                              NaN\n",
       "Name: generation_data_source, Length: 907, dtype: object"
      ]
     },
     "execution_count": 13,
     "metadata": {},
     "output_type": "execute_result"
    }
   ],
   "source": [
    "power['generation_data_source']"
   ]
  },
  {
   "cell_type": "code",
   "execution_count": 14,
   "id": "131b5086",
   "metadata": {},
   "outputs": [
    {
     "data": {
      "text/plain": [
       "0         NaN\n",
       "1         NaN\n",
       "2         NaN\n",
       "3      2019.0\n",
       "4      2019.0\n",
       "        ...  \n",
       "902    2019.0\n",
       "903       NaN\n",
       "904       NaN\n",
       "905       NaN\n",
       "906       NaN\n",
       "Name: year_of_capacity_data, Length: 907, dtype: float64"
      ]
     },
     "execution_count": 14,
     "metadata": {},
     "output_type": "execute_result"
    }
   ],
   "source": [
    "power['year_of_capacity_data']"
   ]
  },
  {
   "cell_type": "markdown",
   "id": "a858d9bd",
   "metadata": {},
   "source": [
    "#### Missing values"
   ]
  },
  {
   "cell_type": "code",
   "execution_count": 15,
   "id": "9d773062",
   "metadata": {},
   "outputs": [
    {
     "data": {
      "text/plain": [
       "country           0\n",
       "country_long      0\n",
       "name              0\n",
       "gppd_idnr         0\n",
       "capacity_mw       0\n",
       "latitude         46\n",
       "longitude        46\n",
       "primary_fuel      0\n",
       "other_fuel1     709\n",
       "other_fuel2     906\n",
       "dtype: int64"
      ]
     },
     "execution_count": 15,
     "metadata": {},
     "output_type": "execute_result"
    }
   ],
   "source": [
    "# get the number of missing data points per column\n",
    "missing_values_count = power.isnull().sum()\n",
    "\n",
    "# look at the # of missing points in the first ten columns\n",
    "missing_values_count[0:10]"
   ]
  },
  {
   "cell_type": "code",
   "execution_count": 16,
   "id": "4b9efcb5",
   "metadata": {},
   "outputs": [
    {
     "name": "stdout",
     "output_type": "stream",
     "text": [
      "42.6518028502593\n"
     ]
    }
   ],
   "source": [
    "# how many total missing values do we have?\n",
    "total_cells = np.product(power.shape)\n",
    "total_missing = missing_values_count.sum()\n",
    "\n",
    "# percent of data that is missing\n",
    "percent_missing = (total_missing/total_cells) * 100\n",
    "print(percent_missing)"
   ]
  },
  {
   "cell_type": "code",
   "execution_count": 17,
   "id": "597b5a50",
   "metadata": {},
   "outputs": [
    {
     "data": {
      "text/plain": [
       "<AxesSubplot:>"
      ]
     },
     "execution_count": 17,
     "metadata": {},
     "output_type": "execute_result"
    },
    {
     "data": {
      "image/png": "[encoded data removed]",
      "text/plain": [
       "<Figure size 2160x720 with 2 Axes>"
      ]
     },
     "metadata": {
      "needs_background": "light"
     },
     "output_type": "display_data"
    }
   ],
   "source": [
    "msno.matrix(power, figsize = (30,10))"
   ]
  },
  {
   "cell_type": "code",
   "execution_count": 18,
   "id": "70f21f34",
   "metadata": {},
   "outputs": [],
   "source": [
    "numerical_features = []\n",
    "categorical_features = []\n",
    "#'country', 'country_long','primary_fuel', 'name', 'gppd_idnr', 'latitute', 'longitude', 'source', 'generation_data_source', 'owner', 'geolocation_source', 'wepp_id', 'generation_gwh_2019', 'estimated_generation_gwh', 'year_of_capacity_data' \n",
    "for i in power.columns:\n",
    "    if power[i].nunique()>7:\n",
    "        numerical_features.append(i)\n",
    "    else:\n",
    "        categorical_features.append(i)"
   ]
  },
  {
   "cell_type": "code",
   "execution_count": 19,
   "id": "f831f01c",
   "metadata": {},
   "outputs": [
    {
     "data": {
      "text/plain": [
       "other_fuel3                 907\n",
       "wepp_id                     907\n",
       "generation_gwh_2013         907\n",
       "generation_gwh_2019         907\n",
       "estimated_generation_gwh    907\n",
       "other_fuel2                 906\n",
       "other_fuel1                 709\n",
       "generation_data_source      458\n",
       "year_of_capacity_data       388\n",
       "geolocation_source           19\n",
       "country                       0\n",
       "country_long                  0\n",
       "dtype: int64"
      ]
     },
     "execution_count": 19,
     "metadata": {},
     "output_type": "execute_result"
    }
   ],
   "source": [
    "power.loc[:,categorical_features].isnull().sum().sort_values(ascending=False)"
   ]
  },
  {
   "cell_type": "code",
   "execution_count": 20,
   "id": "216129e0",
   "metadata": {},
   "outputs": [
    {
     "data": {
      "text/plain": [
       "owner                  565\n",
       "generation_gwh_2014    509\n",
       "generation_gwh_2015    485\n",
       "generation_gwh_2016    473\n",
       "generation_gwh_2017    467\n",
       "generation_gwh_2018    459\n",
       "commissioning_year     380\n",
       "latitude                46\n",
       "longitude               46\n",
       "name                     0\n",
       "gppd_idnr                0\n",
       "capacity_mw              0\n",
       "primary_fuel             0\n",
       "source                   0\n",
       "url                      0\n",
       "dtype: int64"
      ]
     },
     "execution_count": 20,
     "metadata": {},
     "output_type": "execute_result"
    }
   ],
   "source": [
    "power.loc[:,numerical_features].isnull().sum().sort_values(ascending=False)"
   ]
  },
  {
   "cell_type": "code",
   "execution_count": 21,
   "id": "016f609f",
   "metadata": {},
   "outputs": [],
   "source": [
    "power.drop(['country', 'country_long', 'name', 'gppd_idnr', 'latitude', 'longitude', 'source', 'generation_data_source', 'owner', 'geolocation_source', 'wepp_id', 'year_of_capacity_data', 'url' ], axis=1, inplace=True)"
   ]
  },
  {
   "cell_type": "code",
   "execution_count": 22,
   "id": "dd162a97",
   "metadata": {},
   "outputs": [
    {
     "data": {
      "text/html": [
       "<div>\n",
       "<style scoped>\n",
       "    .dataframe tbody tr th:only-of-type {\n",
       "        vertical-align: middle;\n",
       "    }\n",
       "\n",
       "    .dataframe tbody tr th {\n",
       "        vertical-align: top;\n",
       "    }\n",
       "\n",
       "    .dataframe thead th {\n",
       "        text-align: right;\n",
       "    }\n",
       "</style>\n",
       "<table border=\"1\" class=\"dataframe\">\n",
       "  <thead>\n",
       "    <tr style=\"text-align: right;\">\n",
       "      <th></th>\n",
       "      <th>capacity_mw</th>\n",
       "      <th>primary_fuel</th>\n",
       "      <th>other_fuel1</th>\n",
       "      <th>other_fuel2</th>\n",
       "      <th>other_fuel3</th>\n",
       "      <th>commissioning_year</th>\n",
       "      <th>generation_gwh_2013</th>\n",
       "      <th>generation_gwh_2014</th>\n",
       "      <th>generation_gwh_2015</th>\n",
       "      <th>generation_gwh_2016</th>\n",
       "      <th>generation_gwh_2017</th>\n",
       "      <th>generation_gwh_2018</th>\n",
       "      <th>generation_gwh_2019</th>\n",
       "      <th>estimated_generation_gwh</th>\n",
       "    </tr>\n",
       "  </thead>\n",
       "  <tbody>\n",
       "    <tr>\n",
       "      <th>0</th>\n",
       "      <td>2.5</td>\n",
       "      <td>Solar</td>\n",
       "      <td>NaN</td>\n",
       "      <td>NaN</td>\n",
       "      <td>NaN</td>\n",
       "      <td>2011.0</td>\n",
       "      <td>NaN</td>\n",
       "      <td>NaN</td>\n",
       "      <td>NaN</td>\n",
       "      <td>NaN</td>\n",
       "      <td>NaN</td>\n",
       "      <td>NaN</td>\n",
       "      <td>NaN</td>\n",
       "      <td>NaN</td>\n",
       "    </tr>\n",
       "    <tr>\n",
       "      <th>1</th>\n",
       "      <td>98.0</td>\n",
       "      <td>Coal</td>\n",
       "      <td>NaN</td>\n",
       "      <td>NaN</td>\n",
       "      <td>NaN</td>\n",
       "      <td>NaN</td>\n",
       "      <td>NaN</td>\n",
       "      <td>NaN</td>\n",
       "      <td>NaN</td>\n",
       "      <td>NaN</td>\n",
       "      <td>NaN</td>\n",
       "      <td>NaN</td>\n",
       "      <td>NaN</td>\n",
       "      <td>NaN</td>\n",
       "    </tr>\n",
       "    <tr>\n",
       "      <th>2</th>\n",
       "      <td>39.2</td>\n",
       "      <td>Wind</td>\n",
       "      <td>NaN</td>\n",
       "      <td>NaN</td>\n",
       "      <td>NaN</td>\n",
       "      <td>NaN</td>\n",
       "      <td>NaN</td>\n",
       "      <td>NaN</td>\n",
       "      <td>NaN</td>\n",
       "      <td>NaN</td>\n",
       "      <td>NaN</td>\n",
       "      <td>NaN</td>\n",
       "      <td>NaN</td>\n",
       "      <td>NaN</td>\n",
       "    </tr>\n",
       "    <tr>\n",
       "      <th>3</th>\n",
       "      <td>135.0</td>\n",
       "      <td>Gas</td>\n",
       "      <td>NaN</td>\n",
       "      <td>NaN</td>\n",
       "      <td>NaN</td>\n",
       "      <td>2004.0</td>\n",
       "      <td>NaN</td>\n",
       "      <td>617.789264</td>\n",
       "      <td>843.747</td>\n",
       "      <td>886.004428</td>\n",
       "      <td>663.774500</td>\n",
       "      <td>626.239128</td>\n",
       "      <td>NaN</td>\n",
       "      <td>NaN</td>\n",
       "    </tr>\n",
       "    <tr>\n",
       "      <th>4</th>\n",
       "      <td>1800.0</td>\n",
       "      <td>Coal</td>\n",
       "      <td>Oil</td>\n",
       "      <td>NaN</td>\n",
       "      <td>NaN</td>\n",
       "      <td>2015.0</td>\n",
       "      <td>NaN</td>\n",
       "      <td>3035.550000</td>\n",
       "      <td>5916.370</td>\n",
       "      <td>6243.000000</td>\n",
       "      <td>5385.579736</td>\n",
       "      <td>7279.000000</td>\n",
       "      <td>NaN</td>\n",
       "      <td>NaN</td>\n",
       "    </tr>\n",
       "  </tbody>\n",
       "</table>\n",
       "</div>"
      ],
      "text/plain": [
       "   capacity_mw primary_fuel other_fuel1 other_fuel2  other_fuel3  \\\n",
       "0          2.5        Solar         NaN         NaN          NaN   \n",
       "1         98.0         Coal         NaN         NaN          NaN   \n",
       "2         39.2         Wind         NaN         NaN          NaN   \n",
       "3        135.0          Gas         NaN         NaN          NaN   \n",
       "4       1800.0         Coal         Oil         NaN          NaN   \n",
       "\n",
       "   commissioning_year  generation_gwh_2013  generation_gwh_2014  \\\n",
       "0              2011.0                  NaN                  NaN   \n",
       "1                 NaN                  NaN                  NaN   \n",
       "2                 NaN                  NaN                  NaN   \n",
       "3              2004.0                  NaN           617.789264   \n",
       "4              2015.0                  NaN          3035.550000   \n",
       "\n",
       "   generation_gwh_2015  generation_gwh_2016  generation_gwh_2017  \\\n",
       "0                  NaN                  NaN                  NaN   \n",
       "1                  NaN                  NaN                  NaN   \n",
       "2                  NaN                  NaN                  NaN   \n",
       "3              843.747           886.004428           663.774500   \n",
       "4             5916.370          6243.000000          5385.579736   \n",
       "\n",
       "   generation_gwh_2018  generation_gwh_2019  estimated_generation_gwh  \n",
       "0                  NaN                  NaN                       NaN  \n",
       "1                  NaN                  NaN                       NaN  \n",
       "2                  NaN                  NaN                       NaN  \n",
       "3           626.239128                  NaN                       NaN  \n",
       "4          7279.000000                  NaN                       NaN  "
      ]
     },
     "execution_count": 22,
     "metadata": {},
     "output_type": "execute_result"
    }
   ],
   "source": [
    "power.head()"
   ]
  },
  {
   "cell_type": "code",
   "execution_count": 23,
   "id": "1ad4e8a9",
   "metadata": {},
   "outputs": [],
   "source": [
    "new_power = power[['capacity_mw','primary_fuel', 'other_fuel1', 'other_fuel2', 'other_fuel3', 'commissioning_year', 'generation_gwh_2013', 'generation_gwh_2014', 'generation_gwh_2015', 'generation_gwh_2016', 'generation_gwh_2017','generation_gwh_2018','generation_gwh_2019', 'estimated_generation_gwh']].copy()"
   ]
  },
  {
   "cell_type": "code",
   "execution_count": 24,
   "id": "ecc680ed",
   "metadata": {},
   "outputs": [
    {
     "data": {
      "text/html": [
       "<div>\n",
       "<style scoped>\n",
       "    .dataframe tbody tr th:only-of-type {\n",
       "        vertical-align: middle;\n",
       "    }\n",
       "\n",
       "    .dataframe tbody tr th {\n",
       "        vertical-align: top;\n",
       "    }\n",
       "\n",
       "    .dataframe thead th {\n",
       "        text-align: right;\n",
       "    }\n",
       "</style>\n",
       "<table border=\"1\" class=\"dataframe\">\n",
       "  <thead>\n",
       "    <tr style=\"text-align: right;\">\n",
       "      <th></th>\n",
       "      <th>capacity_mw</th>\n",
       "      <th>primary_fuel</th>\n",
       "      <th>other_fuel1</th>\n",
       "      <th>other_fuel2</th>\n",
       "      <th>other_fuel3</th>\n",
       "      <th>commissioning_year</th>\n",
       "      <th>generation_gwh_2013</th>\n",
       "      <th>generation_gwh_2014</th>\n",
       "      <th>generation_gwh_2015</th>\n",
       "      <th>generation_gwh_2016</th>\n",
       "      <th>generation_gwh_2017</th>\n",
       "      <th>generation_gwh_2018</th>\n",
       "      <th>generation_gwh_2019</th>\n",
       "      <th>estimated_generation_gwh</th>\n",
       "    </tr>\n",
       "  </thead>\n",
       "  <tbody>\n",
       "    <tr>\n",
       "      <th>0</th>\n",
       "      <td>2.5</td>\n",
       "      <td>Solar</td>\n",
       "      <td>NaN</td>\n",
       "      <td>NaN</td>\n",
       "      <td>NaN</td>\n",
       "      <td>2011.0</td>\n",
       "      <td>NaN</td>\n",
       "      <td>NaN</td>\n",
       "      <td>NaN</td>\n",
       "      <td>NaN</td>\n",
       "      <td>NaN</td>\n",
       "      <td>NaN</td>\n",
       "      <td>NaN</td>\n",
       "      <td>NaN</td>\n",
       "    </tr>\n",
       "    <tr>\n",
       "      <th>1</th>\n",
       "      <td>98.0</td>\n",
       "      <td>Coal</td>\n",
       "      <td>NaN</td>\n",
       "      <td>NaN</td>\n",
       "      <td>NaN</td>\n",
       "      <td>NaN</td>\n",
       "      <td>NaN</td>\n",
       "      <td>NaN</td>\n",
       "      <td>NaN</td>\n",
       "      <td>NaN</td>\n",
       "      <td>NaN</td>\n",
       "      <td>NaN</td>\n",
       "      <td>NaN</td>\n",
       "      <td>NaN</td>\n",
       "    </tr>\n",
       "    <tr>\n",
       "      <th>2</th>\n",
       "      <td>39.2</td>\n",
       "      <td>Wind</td>\n",
       "      <td>NaN</td>\n",
       "      <td>NaN</td>\n",
       "      <td>NaN</td>\n",
       "      <td>NaN</td>\n",
       "      <td>NaN</td>\n",
       "      <td>NaN</td>\n",
       "      <td>NaN</td>\n",
       "      <td>NaN</td>\n",
       "      <td>NaN</td>\n",
       "      <td>NaN</td>\n",
       "      <td>NaN</td>\n",
       "      <td>NaN</td>\n",
       "    </tr>\n",
       "    <tr>\n",
       "      <th>3</th>\n",
       "      <td>135.0</td>\n",
       "      <td>Gas</td>\n",
       "      <td>NaN</td>\n",
       "      <td>NaN</td>\n",
       "      <td>NaN</td>\n",
       "      <td>2004.0</td>\n",
       "      <td>NaN</td>\n",
       "      <td>617.789264</td>\n",
       "      <td>843.747000</td>\n",
       "      <td>886.004428</td>\n",
       "      <td>663.774500</td>\n",
       "      <td>626.239128</td>\n",
       "      <td>NaN</td>\n",
       "      <td>NaN</td>\n",
       "    </tr>\n",
       "    <tr>\n",
       "      <th>4</th>\n",
       "      <td>1800.0</td>\n",
       "      <td>Coal</td>\n",
       "      <td>Oil</td>\n",
       "      <td>NaN</td>\n",
       "      <td>NaN</td>\n",
       "      <td>2015.0</td>\n",
       "      <td>NaN</td>\n",
       "      <td>3035.550000</td>\n",
       "      <td>5916.370000</td>\n",
       "      <td>6243.000000</td>\n",
       "      <td>5385.579736</td>\n",
       "      <td>7279.000000</td>\n",
       "      <td>NaN</td>\n",
       "      <td>NaN</td>\n",
       "    </tr>\n",
       "    <tr>\n",
       "      <th>...</th>\n",
       "      <td>...</td>\n",
       "      <td>...</td>\n",
       "      <td>...</td>\n",
       "      <td>...</td>\n",
       "      <td>...</td>\n",
       "      <td>...</td>\n",
       "      <td>...</td>\n",
       "      <td>...</td>\n",
       "      <td>...</td>\n",
       "      <td>...</td>\n",
       "      <td>...</td>\n",
       "      <td>...</td>\n",
       "      <td>...</td>\n",
       "      <td>...</td>\n",
       "    </tr>\n",
       "    <tr>\n",
       "      <th>902</th>\n",
       "      <td>1600.0</td>\n",
       "      <td>Coal</td>\n",
       "      <td>Oil</td>\n",
       "      <td>NaN</td>\n",
       "      <td>NaN</td>\n",
       "      <td>2016.0</td>\n",
       "      <td>NaN</td>\n",
       "      <td>NaN</td>\n",
       "      <td>0.994875</td>\n",
       "      <td>233.596650</td>\n",
       "      <td>865.400000</td>\n",
       "      <td>686.500000</td>\n",
       "      <td>NaN</td>\n",
       "      <td>NaN</td>\n",
       "    </tr>\n",
       "    <tr>\n",
       "      <th>903</th>\n",
       "      <td>3.0</td>\n",
       "      <td>Solar</td>\n",
       "      <td>NaN</td>\n",
       "      <td>NaN</td>\n",
       "      <td>NaN</td>\n",
       "      <td>NaN</td>\n",
       "      <td>NaN</td>\n",
       "      <td>NaN</td>\n",
       "      <td>NaN</td>\n",
       "      <td>NaN</td>\n",
       "      <td>NaN</td>\n",
       "      <td>NaN</td>\n",
       "      <td>NaN</td>\n",
       "      <td>NaN</td>\n",
       "    </tr>\n",
       "    <tr>\n",
       "      <th>904</th>\n",
       "      <td>25.5</td>\n",
       "      <td>Wind</td>\n",
       "      <td>NaN</td>\n",
       "      <td>NaN</td>\n",
       "      <td>NaN</td>\n",
       "      <td>NaN</td>\n",
       "      <td>NaN</td>\n",
       "      <td>NaN</td>\n",
       "      <td>NaN</td>\n",
       "      <td>NaN</td>\n",
       "      <td>NaN</td>\n",
       "      <td>NaN</td>\n",
       "      <td>NaN</td>\n",
       "      <td>NaN</td>\n",
       "    </tr>\n",
       "    <tr>\n",
       "      <th>905</th>\n",
       "      <td>80.0</td>\n",
       "      <td>Coal</td>\n",
       "      <td>NaN</td>\n",
       "      <td>NaN</td>\n",
       "      <td>NaN</td>\n",
       "      <td>NaN</td>\n",
       "      <td>NaN</td>\n",
       "      <td>NaN</td>\n",
       "      <td>NaN</td>\n",
       "      <td>NaN</td>\n",
       "      <td>NaN</td>\n",
       "      <td>NaN</td>\n",
       "      <td>NaN</td>\n",
       "      <td>NaN</td>\n",
       "    </tr>\n",
       "    <tr>\n",
       "      <th>906</th>\n",
       "      <td>16.5</td>\n",
       "      <td>Wind</td>\n",
       "      <td>NaN</td>\n",
       "      <td>NaN</td>\n",
       "      <td>NaN</td>\n",
       "      <td>NaN</td>\n",
       "      <td>NaN</td>\n",
       "      <td>NaN</td>\n",
       "      <td>NaN</td>\n",
       "      <td>NaN</td>\n",
       "      <td>NaN</td>\n",
       "      <td>NaN</td>\n",
       "      <td>NaN</td>\n",
       "      <td>NaN</td>\n",
       "    </tr>\n",
       "  </tbody>\n",
       "</table>\n",
       "<p>907 rows × 14 columns</p>\n",
       "</div>"
      ],
      "text/plain": [
       "     capacity_mw primary_fuel other_fuel1 other_fuel2  other_fuel3  \\\n",
       "0            2.5        Solar         NaN         NaN          NaN   \n",
       "1           98.0         Coal         NaN         NaN          NaN   \n",
       "2           39.2         Wind         NaN         NaN          NaN   \n",
       "3          135.0          Gas         NaN         NaN          NaN   \n",
       "4         1800.0         Coal         Oil         NaN          NaN   \n",
       "..           ...          ...         ...         ...          ...   \n",
       "902       1600.0         Coal         Oil         NaN          NaN   \n",
       "903          3.0        Solar         NaN         NaN          NaN   \n",
       "904         25.5         Wind         NaN         NaN          NaN   \n",
       "905         80.0         Coal         NaN         NaN          NaN   \n",
       "906         16.5         Wind         NaN         NaN          NaN   \n",
       "\n",
       "     commissioning_year  generation_gwh_2013  generation_gwh_2014  \\\n",
       "0                2011.0                  NaN                  NaN   \n",
       "1                   NaN                  NaN                  NaN   \n",
       "2                   NaN                  NaN                  NaN   \n",
       "3                2004.0                  NaN           617.789264   \n",
       "4                2015.0                  NaN          3035.550000   \n",
       "..                  ...                  ...                  ...   \n",
       "902              2016.0                  NaN                  NaN   \n",
       "903                 NaN                  NaN                  NaN   \n",
       "904                 NaN                  NaN                  NaN   \n",
       "905                 NaN                  NaN                  NaN   \n",
       "906                 NaN                  NaN                  NaN   \n",
       "\n",
       "     generation_gwh_2015  generation_gwh_2016  generation_gwh_2017  \\\n",
       "0                    NaN                  NaN                  NaN   \n",
       "1                    NaN                  NaN                  NaN   \n",
       "2                    NaN                  NaN                  NaN   \n",
       "3             843.747000           886.004428           663.774500   \n",
       "4            5916.370000          6243.000000          5385.579736   \n",
       "..                   ...                  ...                  ...   \n",
       "902             0.994875           233.596650           865.400000   \n",
       "903                  NaN                  NaN                  NaN   \n",
       "904                  NaN                  NaN                  NaN   \n",
       "905                  NaN                  NaN                  NaN   \n",
       "906                  NaN                  NaN                  NaN   \n",
       "\n",
       "     generation_gwh_2018  generation_gwh_2019  estimated_generation_gwh  \n",
       "0                    NaN                  NaN                       NaN  \n",
       "1                    NaN                  NaN                       NaN  \n",
       "2                    NaN                  NaN                       NaN  \n",
       "3             626.239128                  NaN                       NaN  \n",
       "4            7279.000000                  NaN                       NaN  \n",
       "..                   ...                  ...                       ...  \n",
       "902           686.500000                  NaN                       NaN  \n",
       "903                  NaN                  NaN                       NaN  \n",
       "904                  NaN                  NaN                       NaN  \n",
       "905                  NaN                  NaN                       NaN  \n",
       "906                  NaN                  NaN                       NaN  \n",
       "\n",
       "[907 rows x 14 columns]"
      ]
     },
     "execution_count": 24,
     "metadata": {},
     "output_type": "execute_result"
    }
   ],
   "source": [
    "new_power"
   ]
  },
  {
   "cell_type": "code",
   "execution_count": 25,
   "id": "cfb14d0b",
   "metadata": {},
   "outputs": [],
   "source": [
    "new_power[['other_fuel3']] = new_power[['other_fuel3']].astype(object)"
   ]
  },
  {
   "cell_type": "code",
   "execution_count": 26,
   "id": "8afd5ae8",
   "metadata": {},
   "outputs": [
    {
     "name": "stdout",
     "output_type": "stream",
     "text": [
      "<class 'pandas.core.frame.DataFrame'>\n",
      "RangeIndex: 907 entries, 0 to 906\n",
      "Data columns (total 14 columns):\n",
      " #   Column                    Non-Null Count  Dtype  \n",
      "---  ------                    --------------  -----  \n",
      " 0   capacity_mw               907 non-null    float64\n",
      " 1   primary_fuel              907 non-null    object \n",
      " 2   other_fuel1               198 non-null    object \n",
      " 3   other_fuel2               1 non-null      object \n",
      " 4   other_fuel3               0 non-null      object \n",
      " 5   commissioning_year        527 non-null    float64\n",
      " 6   generation_gwh_2013       0 non-null      float64\n",
      " 7   generation_gwh_2014       398 non-null    float64\n",
      " 8   generation_gwh_2015       422 non-null    float64\n",
      " 9   generation_gwh_2016       434 non-null    float64\n",
      " 10  generation_gwh_2017       440 non-null    float64\n",
      " 11  generation_gwh_2018       448 non-null    float64\n",
      " 12  generation_gwh_2019       0 non-null      float64\n",
      " 13  estimated_generation_gwh  0 non-null      float64\n",
      "dtypes: float64(10), object(4)\n",
      "memory usage: 99.3+ KB\n"
     ]
    }
   ],
   "source": [
    "new_power.info()"
   ]
  },
  {
   "cell_type": "code",
   "execution_count": 27,
   "id": "82862d9c",
   "metadata": {},
   "outputs": [],
   "source": [
    "new_power = new_power.drop(columns=['other_fuel3', 'generation_gwh_2013', 'generation_gwh_2019', 'estimated_generation_gwh', 'other_fuel2'])"
   ]
  },
  {
   "cell_type": "code",
   "execution_count": 28,
   "id": "1daed486",
   "metadata": {},
   "outputs": [
    {
     "name": "stdout",
     "output_type": "stream",
     "text": [
      "<class 'pandas.core.frame.DataFrame'>\n",
      "RangeIndex: 907 entries, 0 to 906\n",
      "Data columns (total 9 columns):\n",
      " #   Column               Non-Null Count  Dtype  \n",
      "---  ------               --------------  -----  \n",
      " 0   capacity_mw          907 non-null    float64\n",
      " 1   primary_fuel         907 non-null    object \n",
      " 2   other_fuel1          198 non-null    object \n",
      " 3   commissioning_year   527 non-null    float64\n",
      " 4   generation_gwh_2014  398 non-null    float64\n",
      " 5   generation_gwh_2015  422 non-null    float64\n",
      " 6   generation_gwh_2016  434 non-null    float64\n",
      " 7   generation_gwh_2017  440 non-null    float64\n",
      " 8   generation_gwh_2018  448 non-null    float64\n",
      "dtypes: float64(7), object(2)\n",
      "memory usage: 63.9+ KB\n"
     ]
    }
   ],
   "source": [
    "new_power.info()"
   ]
  },
  {
   "cell_type": "code",
   "execution_count": 29,
   "id": "f629ce36",
   "metadata": {},
   "outputs": [],
   "source": [
    "numerical_features1 = []\n",
    "categorical_features1 = []\n",
    "#'country', 'country_long','primary_fuel', 'name', 'gppd_idnr', 'latitute', 'longitude', 'source', 'generation_data_source', 'owner', 'geolocation_source', 'wepp_id', 'generation_gwh_2019', 'estimated_generation_gwh', 'year_of_capacity_data' \n",
    "for i in new_power.drop('primary_fuel' , axis=1).columns:\n",
    "    if new_power[i].nunique()>7:\n",
    "        numerical_features1.append(i)\n",
    "    else:\n",
    "        categorical_features1.append(i)"
   ]
  },
  {
   "cell_type": "code",
   "execution_count": 30,
   "id": "f215734a",
   "metadata": {},
   "outputs": [
    {
     "data": {
      "text/plain": [
       "other_fuel1    709\n",
       "dtype: int64"
      ]
     },
     "execution_count": 30,
     "metadata": {},
     "output_type": "execute_result"
    }
   ],
   "source": [
    "new_power.loc[:,categorical_features1].isnull().sum().sort_values(ascending=False)"
   ]
  },
  {
   "cell_type": "code",
   "execution_count": 31,
   "id": "9f9e4bca",
   "metadata": {},
   "outputs": [
    {
     "data": {
      "text/plain": [
       "generation_gwh_2014    509\n",
       "generation_gwh_2015    485\n",
       "generation_gwh_2016    473\n",
       "generation_gwh_2017    467\n",
       "generation_gwh_2018    459\n",
       "commissioning_year     380\n",
       "capacity_mw              0\n",
       "dtype: int64"
      ]
     },
     "execution_count": 31,
     "metadata": {},
     "output_type": "execute_result"
    }
   ],
   "source": [
    "new_power.loc[:,numerical_features1].isnull().sum().sort_values(ascending=False)\n"
   ]
  },
  {
   "cell_type": "markdown",
   "id": "2389e607",
   "metadata": {},
   "source": [
    "new_power.drop(['other_fuel3', 'generation_gwh_2013', 'generation_gwh_2019', 'estimated_generation_gwh'], axis=1, inplace=True)"
   ]
  },
  {
   "cell_type": "code",
   "execution_count": 32,
   "id": "ad78416d",
   "metadata": {},
   "outputs": [
    {
     "data": {
      "text/plain": [
       "['other_fuel1']"
      ]
     },
     "execution_count": 32,
     "metadata": {},
     "output_type": "execute_result"
    }
   ],
   "source": [
    "categorical_features1"
   ]
  },
  {
   "cell_type": "code",
   "execution_count": 33,
   "id": "28403ebd",
   "metadata": {},
   "outputs": [],
   "source": [
    "to_encode = [feat for feat in categorical_features1 if new_power[feat].dtype=='object']"
   ]
  },
  {
   "cell_type": "code",
   "execution_count": 34,
   "id": "c94a9308",
   "metadata": {},
   "outputs": [
    {
     "data": {
      "text/plain": [
       "['other_fuel1']"
      ]
     },
     "execution_count": 34,
     "metadata": {},
     "output_type": "execute_result"
    }
   ],
   "source": [
    "to_encode\n"
   ]
  },
  {
   "cell_type": "code",
   "execution_count": 35,
   "id": "55f28982",
   "metadata": {},
   "outputs": [],
   "source": [
    "ode = OrdinalEncoder(dtype = int)"
   ]
  },
  {
   "cell_type": "code",
   "execution_count": 36,
   "id": "28b9acf8",
   "metadata": {},
   "outputs": [
    {
     "name": "stderr",
     "output_type": "stream",
     "text": [
      "C:\\Users\\Usuario\\anaconda3\\envs\\spyder1\\lib\\site-packages\\pandas\\core\\indexing.py:1732: SettingWithCopyWarning: \n",
      "A value is trying to be set on a copy of a slice from a DataFrame\n",
      "\n",
      "See the caveats in the documentation: https://pandas.pydata.org/pandas-docs/stable/user_guide/indexing.html#returning-a-view-versus-a-copy\n",
      "  self._setitem_single_block(indexer, value, name)\n"
     ]
    }
   ],
   "source": [
    "def encode(data):\n",
    "    '''function to encode non-nan data and replace it in the original data'''\n",
    "    #retains only non-null values\n",
    "    nonulls = np.array(data.dropna())\n",
    "    #reshapes the data for encoding\n",
    "    impute_reshape = nonulls.reshape(-1,1)\n",
    "    #encode date\n",
    "    impute_ordinal = ode.fit_transform(impute_reshape)\n",
    "    #Assign back encoded values to non-null values\n",
    "    data.loc[data.notnull()] = np.squeeze(impute_ordinal)\n",
    "    return data\n",
    "\n",
    "#create a for loop to iterate through each column in the data\n",
    "for columns in to_encode:\n",
    "    encode(new_power[columns])"
   ]
  },
  {
   "cell_type": "code",
   "execution_count": 37,
   "id": "19b5b539",
   "metadata": {},
   "outputs": [
    {
     "data": {
      "text/html": [
       "<div>\n",
       "<style scoped>\n",
       "    .dataframe tbody tr th:only-of-type {\n",
       "        vertical-align: middle;\n",
       "    }\n",
       "\n",
       "    .dataframe tbody tr th {\n",
       "        vertical-align: top;\n",
       "    }\n",
       "\n",
       "    .dataframe thead th {\n",
       "        text-align: right;\n",
       "    }\n",
       "</style>\n",
       "<table border=\"1\" class=\"dataframe\">\n",
       "  <thead>\n",
       "    <tr style=\"text-align: right;\">\n",
       "      <th></th>\n",
       "      <th>other_fuel1</th>\n",
       "    </tr>\n",
       "  </thead>\n",
       "  <tbody>\n",
       "    <tr>\n",
       "      <th>0</th>\n",
       "      <td>NaN</td>\n",
       "    </tr>\n",
       "    <tr>\n",
       "      <th>1</th>\n",
       "      <td>NaN</td>\n",
       "    </tr>\n",
       "    <tr>\n",
       "      <th>2</th>\n",
       "      <td>NaN</td>\n",
       "    </tr>\n",
       "    <tr>\n",
       "      <th>3</th>\n",
       "      <td>NaN</td>\n",
       "    </tr>\n",
       "    <tr>\n",
       "      <th>4</th>\n",
       "      <td>2</td>\n",
       "    </tr>\n",
       "    <tr>\n",
       "      <th>5</th>\n",
       "      <td>2</td>\n",
       "    </tr>\n",
       "    <tr>\n",
       "      <th>6</th>\n",
       "      <td>NaN</td>\n",
       "    </tr>\n",
       "    <tr>\n",
       "      <th>7</th>\n",
       "      <td>NaN</td>\n",
       "    </tr>\n",
       "    <tr>\n",
       "      <th>8</th>\n",
       "      <td>NaN</td>\n",
       "    </tr>\n",
       "    <tr>\n",
       "      <th>9</th>\n",
       "      <td>2</td>\n",
       "    </tr>\n",
       "  </tbody>\n",
       "</table>\n",
       "</div>"
      ],
      "text/plain": [
       "  other_fuel1\n",
       "0         NaN\n",
       "1         NaN\n",
       "2         NaN\n",
       "3         NaN\n",
       "4           2\n",
       "5           2\n",
       "6         NaN\n",
       "7         NaN\n",
       "8         NaN\n",
       "9           2"
      ]
     },
     "execution_count": 37,
     "metadata": {},
     "output_type": "execute_result"
    }
   ],
   "source": [
    "new_power.loc[:, categorical_features1].head(10)"
   ]
  },
  {
   "cell_type": "code",
   "execution_count": 38,
   "id": "6553039d",
   "metadata": {},
   "outputs": [],
   "source": [
    "X = new_power.drop('primary_fuel', axis=1)"
   ]
  },
  {
   "cell_type": "code",
   "execution_count": 39,
   "id": "de374ec0",
   "metadata": {},
   "outputs": [],
   "source": [
    "X_train = X.loc[:300,]\n",
    "X_test = X.loc[300:,]"
   ]
  },
  {
   "cell_type": "markdown",
   "id": "9a146728",
   "metadata": {},
   "source": [
    "Due to the great quantity of missing values, I explored some more advanced options for imputation, and thats how I came across the libraries fancyimpute and impyute"
   ]
  },
  {
   "cell_type": "markdown",
   "id": "9c472804",
   "metadata": {},
   "source": [
    "These resources heavily inspired the solution: \n",
    "* https://www.kaggle.com/code/chayan8/missing-value-imputation-using-mice-knn-ckd-data/notebook\n",
    "    "
   ]
  },
  {
   "cell_type": "markdown",
   "id": "c5c61e12",
   "metadata": {},
   "source": [
    "### Imputing numerical values"
   ]
  },
  {
   "cell_type": "code",
   "execution_count": 40,
   "id": "5dbfe39b",
   "metadata": {},
   "outputs": [],
   "source": [
    "from impyute.imputation.cs import mice"
   ]
  },
  {
   "cell_type": "code",
   "execution_count": 41,
   "id": "6d7510ab",
   "metadata": {},
   "outputs": [],
   "source": [
    "# MICE requires float values\n",
    "X_train_numerical = X_train.loc[:,numerical_features1].astype('float64')"
   ]
  },
  {
   "cell_type": "code",
   "execution_count": 42,
   "id": "6d0954e1",
   "metadata": {},
   "outputs": [],
   "source": [
    "# Passing the numpy arrays to mice\n",
    "X_train_numerical_imputed = mice(X_train_numerical.values)"
   ]
  },
  {
   "cell_type": "code",
   "execution_count": 43,
   "id": "ad0e1248",
   "metadata": {},
   "outputs": [
    {
     "data": {
      "text/plain": [
       "generation_gwh_2014    181\n",
       "generation_gwh_2015    169\n",
       "generation_gwh_2016    167\n",
       "generation_gwh_2017    163\n",
       "generation_gwh_2018    162\n",
       "commissioning_year     137\n",
       "capacity_mw              0\n",
       "dtype: int64"
      ]
     },
     "execution_count": 43,
     "metadata": {},
     "output_type": "execute_result"
    }
   ],
   "source": [
    "X_train.loc[:,numerical_features1].isna().sum().sort_values(ascending=False)"
   ]
  },
  {
   "cell_type": "code",
   "execution_count": 44,
   "id": "de4c3f26",
   "metadata": {},
   "outputs": [
    {
     "name": "stderr",
     "output_type": "stream",
     "text": [
      "C:\\Users\\Usuario\\anaconda3\\envs\\spyder1\\lib\\site-packages\\pandas\\core\\indexing.py:1835: SettingWithCopyWarning: \n",
      "A value is trying to be set on a copy of a slice from a DataFrame.\n",
      "Try using .loc[row_indexer,col_indexer] = value instead\n",
      "\n",
      "See the caveats in the documentation: https://pandas.pydata.org/pandas-docs/stable/user_guide/indexing.html#returning-a-view-versus-a-copy\n",
      "  self._setitem_single_column(loc, value[:, i].tolist(), pi)\n"
     ]
    }
   ],
   "source": [
    "X_train.loc[:,numerical_features1] = X_train_numerical_imputed"
   ]
  },
  {
   "cell_type": "code",
   "execution_count": 45,
   "id": "9be80b87",
   "metadata": {},
   "outputs": [
    {
     "data": {
      "text/plain": [
       "capacity_mw            0\n",
       "commissioning_year     0\n",
       "generation_gwh_2014    0\n",
       "generation_gwh_2015    0\n",
       "generation_gwh_2016    0\n",
       "generation_gwh_2017    0\n",
       "generation_gwh_2018    0\n",
       "dtype: int64"
      ]
     },
     "execution_count": 45,
     "metadata": {},
     "output_type": "execute_result"
    }
   ],
   "source": [
    "X_train.loc[:,numerical_features1].isna().sum().sort_values(ascending=False)"
   ]
  },
  {
   "cell_type": "markdown",
   "id": "f08cc774",
   "metadata": {},
   "source": [
    "*****************************************************************************************************"
   ]
  },
  {
   "cell_type": "markdown",
   "id": "95f3609c",
   "metadata": {},
   "source": [
    "### Imputing categorical values"
   ]
  },
  {
   "cell_type": "code",
   "execution_count": 46,
   "id": "b2ca4da4",
   "metadata": {},
   "outputs": [],
   "source": [
    "from fancyimpute import KNN"
   ]
  },
  {
   "cell_type": "code",
   "execution_count": 47,
   "id": "263ae67d",
   "metadata": {},
   "outputs": [],
   "source": [
    "imputer = KNN()"
   ]
  },
  {
   "cell_type": "code",
   "execution_count": 48,
   "id": "1db69056",
   "metadata": {},
   "outputs": [
    {
     "name": "stdout",
     "output_type": "stream",
     "text": [
      "Imputing row 1/301 with 1 missing, elapsed time: 0.020\n",
      "Imputing row 101/301 with 1 missing, elapsed time: 0.022\n",
      "Imputing row 201/301 with 1 missing, elapsed time: 0.024\n",
      "Imputing row 301/301 with 1 missing, elapsed time: 0.025\n"
     ]
    }
   ],
   "source": [
    "X_train_imputed = pd.DataFrame(np.round(imputer.fit_transform(X_train)),columns = X_train.columns)"
   ]
  },
  {
   "cell_type": "code",
   "execution_count": 49,
   "id": "799a2833",
   "metadata": {},
   "outputs": [
    {
     "data": {
      "text/plain": [
       "capacity_mw            0\n",
       "other_fuel1            0\n",
       "commissioning_year     0\n",
       "generation_gwh_2014    0\n",
       "generation_gwh_2015    0\n",
       "generation_gwh_2016    0\n",
       "generation_gwh_2017    0\n",
       "generation_gwh_2018    0\n",
       "dtype: int64"
      ]
     },
     "execution_count": 49,
     "metadata": {},
     "output_type": "execute_result"
    }
   ],
   "source": [
    "X_train_imputed.isnull().sum()"
   ]
  },
  {
   "cell_type": "code",
   "execution_count": 50,
   "id": "a19f2a99",
   "metadata": {},
   "outputs": [
    {
     "data": {
      "text/html": [
       "<div>\n",
       "<style scoped>\n",
       "    .dataframe tbody tr th:only-of-type {\n",
       "        vertical-align: middle;\n",
       "    }\n",
       "\n",
       "    .dataframe tbody tr th {\n",
       "        vertical-align: top;\n",
       "    }\n",
       "\n",
       "    .dataframe thead th {\n",
       "        text-align: right;\n",
       "    }\n",
       "</style>\n",
       "<table border=\"1\" class=\"dataframe\">\n",
       "  <thead>\n",
       "    <tr style=\"text-align: right;\">\n",
       "      <th></th>\n",
       "      <th>count</th>\n",
       "      <th>mean</th>\n",
       "      <th>std</th>\n",
       "      <th>min</th>\n",
       "      <th>25%</th>\n",
       "      <th>50%</th>\n",
       "      <th>75%</th>\n",
       "      <th>max</th>\n",
       "    </tr>\n",
       "  </thead>\n",
       "  <tbody>\n",
       "    <tr>\n",
       "      <th>capacity_mw</th>\n",
       "      <td>301.0</td>\n",
       "      <td>259.764120</td>\n",
       "      <td>445.752473</td>\n",
       "      <td>1.0</td>\n",
       "      <td>19.0</td>\n",
       "      <td>54.0</td>\n",
       "      <td>300.0</td>\n",
       "      <td>2920.0</td>\n",
       "    </tr>\n",
       "    <tr>\n",
       "      <th>other_fuel1</th>\n",
       "      <td>301.0</td>\n",
       "      <td>2.000000</td>\n",
       "      <td>0.000000</td>\n",
       "      <td>2.0</td>\n",
       "      <td>2.0</td>\n",
       "      <td>2.0</td>\n",
       "      <td>2.0</td>\n",
       "      <td>2.0</td>\n",
       "    </tr>\n",
       "    <tr>\n",
       "      <th>commissioning_year</th>\n",
       "      <td>301.0</td>\n",
       "      <td>1996.272425</td>\n",
       "      <td>11.966016</td>\n",
       "      <td>1957.0</td>\n",
       "      <td>1993.0</td>\n",
       "      <td>1993.0</td>\n",
       "      <td>2004.0</td>\n",
       "      <td>2018.0</td>\n",
       "    </tr>\n",
       "    <tr>\n",
       "      <th>generation_gwh_2014</th>\n",
       "      <td>301.0</td>\n",
       "      <td>1662.903654</td>\n",
       "      <td>1630.167288</td>\n",
       "      <td>-493.0</td>\n",
       "      <td>793.0</td>\n",
       "      <td>1716.0</td>\n",
       "      <td>1725.0</td>\n",
       "      <td>12467.0</td>\n",
       "    </tr>\n",
       "    <tr>\n",
       "      <th>generation_gwh_2015</th>\n",
       "      <td>301.0</td>\n",
       "      <td>1547.867110</td>\n",
       "      <td>1671.057213</td>\n",
       "      <td>0.0</td>\n",
       "      <td>844.0</td>\n",
       "      <td>1332.0</td>\n",
       "      <td>1382.0</td>\n",
       "      <td>11440.0</td>\n",
       "    </tr>\n",
       "    <tr>\n",
       "      <th>generation_gwh_2016</th>\n",
       "      <td>301.0</td>\n",
       "      <td>1676.262458</td>\n",
       "      <td>1828.106786</td>\n",
       "      <td>0.0</td>\n",
       "      <td>933.0</td>\n",
       "      <td>1471.0</td>\n",
       "      <td>1508.0</td>\n",
       "      <td>13675.0</td>\n",
       "    </tr>\n",
       "    <tr>\n",
       "      <th>generation_gwh_2017</th>\n",
       "      <td>301.0</td>\n",
       "      <td>1786.700997</td>\n",
       "      <td>1882.958515</td>\n",
       "      <td>0.0</td>\n",
       "      <td>859.0</td>\n",
       "      <td>1644.0</td>\n",
       "      <td>1671.0</td>\n",
       "      <td>15335.0</td>\n",
       "    </tr>\n",
       "    <tr>\n",
       "      <th>generation_gwh_2018</th>\n",
       "      <td>301.0</td>\n",
       "      <td>1729.893688</td>\n",
       "      <td>2095.244023</td>\n",
       "      <td>0.0</td>\n",
       "      <td>905.0</td>\n",
       "      <td>1444.0</td>\n",
       "      <td>1505.0</td>\n",
       "      <td>18698.0</td>\n",
       "    </tr>\n",
       "  </tbody>\n",
       "</table>\n",
       "</div>"
      ],
      "text/plain": [
       "                     count         mean          std     min     25%     50%  \\\n",
       "capacity_mw          301.0   259.764120   445.752473     1.0    19.0    54.0   \n",
       "other_fuel1          301.0     2.000000     0.000000     2.0     2.0     2.0   \n",
       "commissioning_year   301.0  1996.272425    11.966016  1957.0  1993.0  1993.0   \n",
       "generation_gwh_2014  301.0  1662.903654  1630.167288  -493.0   793.0  1716.0   \n",
       "generation_gwh_2015  301.0  1547.867110  1671.057213     0.0   844.0  1332.0   \n",
       "generation_gwh_2016  301.0  1676.262458  1828.106786     0.0   933.0  1471.0   \n",
       "generation_gwh_2017  301.0  1786.700997  1882.958515     0.0   859.0  1644.0   \n",
       "generation_gwh_2018  301.0  1729.893688  2095.244023     0.0   905.0  1444.0   \n",
       "\n",
       "                        75%      max  \n",
       "capacity_mw           300.0   2920.0  \n",
       "other_fuel1             2.0      2.0  \n",
       "commissioning_year   2004.0   2018.0  \n",
       "generation_gwh_2014  1725.0  12467.0  \n",
       "generation_gwh_2015  1382.0  11440.0  \n",
       "generation_gwh_2016  1508.0  13675.0  \n",
       "generation_gwh_2017  1671.0  15335.0  \n",
       "generation_gwh_2018  1505.0  18698.0  "
      ]
     },
     "execution_count": 50,
     "metadata": {},
     "output_type": "execute_result"
    }
   ],
   "source": [
    "X_train_imputed.describe().T"
   ]
  },
  {
   "cell_type": "code",
   "execution_count": 51,
   "id": "1336a4e2",
   "metadata": {},
   "outputs": [],
   "source": [
    "from sklearn.preprocessing import MinMaxScaler"
   ]
  },
  {
   "cell_type": "code",
   "execution_count": 52,
   "id": "02eec4f0",
   "metadata": {},
   "outputs": [],
   "source": [
    "scaler = MinMaxScaler()\n",
    "scaler.fit(X_train_imputed)\n",
    "X_train_scaled = scaler.transform(X_train_imputed)"
   ]
  },
  {
   "cell_type": "code",
   "execution_count": 53,
   "id": "9a22a62a",
   "metadata": {},
   "outputs": [],
   "source": [
    "X_train_scaled = pd.DataFrame(data=X_train_scaled, columns = X_train.columns)"
   ]
  },
  {
   "cell_type": "code",
   "execution_count": 54,
   "id": "56a88fb7",
   "metadata": {},
   "outputs": [
    {
     "data": {
      "text/html": [
       "<div>\n",
       "<style scoped>\n",
       "    .dataframe tbody tr th:only-of-type {\n",
       "        vertical-align: middle;\n",
       "    }\n",
       "\n",
       "    .dataframe tbody tr th {\n",
       "        vertical-align: top;\n",
       "    }\n",
       "\n",
       "    .dataframe thead th {\n",
       "        text-align: right;\n",
       "    }\n",
       "</style>\n",
       "<table border=\"1\" class=\"dataframe\">\n",
       "  <thead>\n",
       "    <tr style=\"text-align: right;\">\n",
       "      <th></th>\n",
       "      <th>capacity_mw</th>\n",
       "      <th>other_fuel1</th>\n",
       "      <th>commissioning_year</th>\n",
       "      <th>generation_gwh_2014</th>\n",
       "      <th>generation_gwh_2015</th>\n",
       "      <th>generation_gwh_2016</th>\n",
       "      <th>generation_gwh_2017</th>\n",
       "      <th>generation_gwh_2018</th>\n",
       "    </tr>\n",
       "  </thead>\n",
       "  <tbody>\n",
       "    <tr>\n",
       "      <th>count</th>\n",
       "      <td>301.000000</td>\n",
       "      <td>301.0</td>\n",
       "      <td>301.000000</td>\n",
       "      <td>301.000000</td>\n",
       "      <td>301.000000</td>\n",
       "      <td>301.000000</td>\n",
       "      <td>301.000000</td>\n",
       "      <td>301.000000</td>\n",
       "    </tr>\n",
       "    <tr>\n",
       "      <th>mean</th>\n",
       "      <td>0.088648</td>\n",
       "      <td>0.0</td>\n",
       "      <td>0.643810</td>\n",
       "      <td>0.166351</td>\n",
       "      <td>0.135303</td>\n",
       "      <td>0.122579</td>\n",
       "      <td>0.116511</td>\n",
       "      <td>0.092518</td>\n",
       "    </tr>\n",
       "    <tr>\n",
       "      <th>std</th>\n",
       "      <td>0.152707</td>\n",
       "      <td>0.0</td>\n",
       "      <td>0.196164</td>\n",
       "      <td>0.125785</td>\n",
       "      <td>0.146071</td>\n",
       "      <td>0.133682</td>\n",
       "      <td>0.122788</td>\n",
       "      <td>0.112057</td>\n",
       "    </tr>\n",
       "    <tr>\n",
       "      <th>min</th>\n",
       "      <td>0.000000</td>\n",
       "      <td>0.0</td>\n",
       "      <td>0.000000</td>\n",
       "      <td>0.000000</td>\n",
       "      <td>0.000000</td>\n",
       "      <td>0.000000</td>\n",
       "      <td>0.000000</td>\n",
       "      <td>0.000000</td>\n",
       "    </tr>\n",
       "    <tr>\n",
       "      <th>25%</th>\n",
       "      <td>0.006166</td>\n",
       "      <td>0.0</td>\n",
       "      <td>0.590164</td>\n",
       "      <td>0.099228</td>\n",
       "      <td>0.073776</td>\n",
       "      <td>0.068227</td>\n",
       "      <td>0.056016</td>\n",
       "      <td>0.048401</td>\n",
       "    </tr>\n",
       "    <tr>\n",
       "      <th>50%</th>\n",
       "      <td>0.018157</td>\n",
       "      <td>0.0</td>\n",
       "      <td>0.590164</td>\n",
       "      <td>0.170448</td>\n",
       "      <td>0.116434</td>\n",
       "      <td>0.107569</td>\n",
       "      <td>0.107206</td>\n",
       "      <td>0.077228</td>\n",
       "    </tr>\n",
       "    <tr>\n",
       "      <th>75%</th>\n",
       "      <td>0.102432</td>\n",
       "      <td>0.0</td>\n",
       "      <td>0.770492</td>\n",
       "      <td>0.171142</td>\n",
       "      <td>0.120804</td>\n",
       "      <td>0.110274</td>\n",
       "      <td>0.108966</td>\n",
       "      <td>0.080490</td>\n",
       "    </tr>\n",
       "    <tr>\n",
       "      <th>max</th>\n",
       "      <td>1.000000</td>\n",
       "      <td>0.0</td>\n",
       "      <td>1.000000</td>\n",
       "      <td>1.000000</td>\n",
       "      <td>1.000000</td>\n",
       "      <td>1.000000</td>\n",
       "      <td>1.000000</td>\n",
       "      <td>1.000000</td>\n",
       "    </tr>\n",
       "  </tbody>\n",
       "</table>\n",
       "</div>"
      ],
      "text/plain": [
       "       capacity_mw  other_fuel1  commissioning_year  generation_gwh_2014  \\\n",
       "count   301.000000        301.0          301.000000           301.000000   \n",
       "mean      0.088648          0.0            0.643810             0.166351   \n",
       "std       0.152707          0.0            0.196164             0.125785   \n",
       "min       0.000000          0.0            0.000000             0.000000   \n",
       "25%       0.006166          0.0            0.590164             0.099228   \n",
       "50%       0.018157          0.0            0.590164             0.170448   \n",
       "75%       0.102432          0.0            0.770492             0.171142   \n",
       "max       1.000000          0.0            1.000000             1.000000   \n",
       "\n",
       "       generation_gwh_2015  generation_gwh_2016  generation_gwh_2017  \\\n",
       "count           301.000000           301.000000           301.000000   \n",
       "mean              0.135303             0.122579             0.116511   \n",
       "std               0.146071             0.133682             0.122788   \n",
       "min               0.000000             0.000000             0.000000   \n",
       "25%               0.073776             0.068227             0.056016   \n",
       "50%               0.116434             0.107569             0.107206   \n",
       "75%               0.120804             0.110274             0.108966   \n",
       "max               1.000000             1.000000             1.000000   \n",
       "\n",
       "       generation_gwh_2018  \n",
       "count           301.000000  \n",
       "mean              0.092518  \n",
       "std               0.112057  \n",
       "min               0.000000  \n",
       "25%               0.048401  \n",
       "50%               0.077228  \n",
       "75%               0.080490  \n",
       "max               1.000000  "
      ]
     },
     "execution_count": 54,
     "metadata": {},
     "output_type": "execute_result"
    }
   ],
   "source": [
    "X_train_scaled.describe()"
   ]
  },
  {
   "cell_type": "code",
   "execution_count": 55,
   "id": "5efacbf6",
   "metadata": {},
   "outputs": [
    {
     "data": {
      "text/html": [
       "<div>\n",
       "<style scoped>\n",
       "    .dataframe tbody tr th:only-of-type {\n",
       "        vertical-align: middle;\n",
       "    }\n",
       "\n",
       "    .dataframe tbody tr th {\n",
       "        vertical-align: top;\n",
       "    }\n",
       "\n",
       "    .dataframe thead th {\n",
       "        text-align: right;\n",
       "    }\n",
       "</style>\n",
       "<table border=\"1\" class=\"dataframe\">\n",
       "  <thead>\n",
       "    <tr style=\"text-align: right;\">\n",
       "      <th></th>\n",
       "      <th>capacity_mw</th>\n",
       "      <th>other_fuel1</th>\n",
       "      <th>commissioning_year</th>\n",
       "      <th>generation_gwh_2014</th>\n",
       "      <th>generation_gwh_2015</th>\n",
       "      <th>generation_gwh_2016</th>\n",
       "      <th>generation_gwh_2017</th>\n",
       "      <th>generation_gwh_2018</th>\n",
       "    </tr>\n",
       "  </thead>\n",
       "  <tbody>\n",
       "    <tr>\n",
       "      <th>0</th>\n",
       "      <td>0.000343</td>\n",
       "      <td>0.0</td>\n",
       "      <td>0.885246</td>\n",
       "      <td>0.147840</td>\n",
       "      <td>0.105332</td>\n",
       "      <td>0.102962</td>\n",
       "      <td>0.105119</td>\n",
       "      <td>0.074607</td>\n",
       "    </tr>\n",
       "    <tr>\n",
       "      <th>1</th>\n",
       "      <td>0.033231</td>\n",
       "      <td>0.0</td>\n",
       "      <td>0.606557</td>\n",
       "      <td>0.169367</td>\n",
       "      <td>0.123077</td>\n",
       "      <td>0.112834</td>\n",
       "      <td>0.110466</td>\n",
       "      <td>0.082415</td>\n",
       "    </tr>\n",
       "    <tr>\n",
       "      <th>2</th>\n",
       "      <td>0.013018</td>\n",
       "      <td>0.0</td>\n",
       "      <td>0.590164</td>\n",
       "      <td>0.170525</td>\n",
       "      <td>0.118619</td>\n",
       "      <td>0.109324</td>\n",
       "      <td>0.108249</td>\n",
       "      <td>0.078725</td>\n",
       "    </tr>\n",
       "    <tr>\n",
       "      <th>3</th>\n",
       "      <td>0.045906</td>\n",
       "      <td>0.0</td>\n",
       "      <td>0.770492</td>\n",
       "      <td>0.085725</td>\n",
       "      <td>0.073776</td>\n",
       "      <td>0.064790</td>\n",
       "      <td>0.043300</td>\n",
       "      <td>0.033480</td>\n",
       "    </tr>\n",
       "    <tr>\n",
       "      <th>4</th>\n",
       "      <td>0.616307</td>\n",
       "      <td>0.0</td>\n",
       "      <td>0.950820</td>\n",
       "      <td>0.272299</td>\n",
       "      <td>0.517133</td>\n",
       "      <td>0.456527</td>\n",
       "      <td>0.351223</td>\n",
       "      <td>0.389293</td>\n",
       "    </tr>\n",
       "    <tr>\n",
       "      <th>...</th>\n",
       "      <td>...</td>\n",
       "      <td>...</td>\n",
       "      <td>...</td>\n",
       "      <td>...</td>\n",
       "      <td>...</td>\n",
       "      <td>...</td>\n",
       "      <td>...</td>\n",
       "      <td>...</td>\n",
       "    </tr>\n",
       "    <tr>\n",
       "      <th>296</th>\n",
       "      <td>0.032545</td>\n",
       "      <td>0.0</td>\n",
       "      <td>0.950820</td>\n",
       "      <td>0.026389</td>\n",
       "      <td>0.006556</td>\n",
       "      <td>0.029543</td>\n",
       "      <td>0.026345</td>\n",
       "      <td>0.021821</td>\n",
       "    </tr>\n",
       "    <tr>\n",
       "      <th>297</th>\n",
       "      <td>0.410757</td>\n",
       "      <td>0.0</td>\n",
       "      <td>0.868852</td>\n",
       "      <td>0.573688</td>\n",
       "      <td>0.668357</td>\n",
       "      <td>0.443364</td>\n",
       "      <td>0.398435</td>\n",
       "      <td>0.393197</td>\n",
       "    </tr>\n",
       "    <tr>\n",
       "      <th>298</th>\n",
       "      <td>0.004796</td>\n",
       "      <td>0.0</td>\n",
       "      <td>0.590164</td>\n",
       "      <td>0.170910</td>\n",
       "      <td>0.116871</td>\n",
       "      <td>0.107861</td>\n",
       "      <td>0.107401</td>\n",
       "      <td>0.077228</td>\n",
       "    </tr>\n",
       "    <tr>\n",
       "      <th>299</th>\n",
       "      <td>0.000343</td>\n",
       "      <td>0.0</td>\n",
       "      <td>0.590164</td>\n",
       "      <td>0.171219</td>\n",
       "      <td>0.115822</td>\n",
       "      <td>0.107130</td>\n",
       "      <td>0.106880</td>\n",
       "      <td>0.076372</td>\n",
       "    </tr>\n",
       "    <tr>\n",
       "      <th>300</th>\n",
       "      <td>0.031175</td>\n",
       "      <td>0.0</td>\n",
       "      <td>0.606557</td>\n",
       "      <td>0.169522</td>\n",
       "      <td>0.122640</td>\n",
       "      <td>0.112468</td>\n",
       "      <td>0.110271</td>\n",
       "      <td>0.081987</td>\n",
       "    </tr>\n",
       "  </tbody>\n",
       "</table>\n",
       "<p>301 rows × 8 columns</p>\n",
       "</div>"
      ],
      "text/plain": [
       "     capacity_mw  other_fuel1  commissioning_year  generation_gwh_2014  \\\n",
       "0       0.000343          0.0            0.885246             0.147840   \n",
       "1       0.033231          0.0            0.606557             0.169367   \n",
       "2       0.013018          0.0            0.590164             0.170525   \n",
       "3       0.045906          0.0            0.770492             0.085725   \n",
       "4       0.616307          0.0            0.950820             0.272299   \n",
       "..           ...          ...                 ...                  ...   \n",
       "296     0.032545          0.0            0.950820             0.026389   \n",
       "297     0.410757          0.0            0.868852             0.573688   \n",
       "298     0.004796          0.0            0.590164             0.170910   \n",
       "299     0.000343          0.0            0.590164             0.171219   \n",
       "300     0.031175          0.0            0.606557             0.169522   \n",
       "\n",
       "     generation_gwh_2015  generation_gwh_2016  generation_gwh_2017  \\\n",
       "0               0.105332             0.102962             0.105119   \n",
       "1               0.123077             0.112834             0.110466   \n",
       "2               0.118619             0.109324             0.108249   \n",
       "3               0.073776             0.064790             0.043300   \n",
       "4               0.517133             0.456527             0.351223   \n",
       "..                   ...                  ...                  ...   \n",
       "296             0.006556             0.029543             0.026345   \n",
       "297             0.668357             0.443364             0.398435   \n",
       "298             0.116871             0.107861             0.107401   \n",
       "299             0.115822             0.107130             0.106880   \n",
       "300             0.122640             0.112468             0.110271   \n",
       "\n",
       "     generation_gwh_2018  \n",
       "0               0.074607  \n",
       "1               0.082415  \n",
       "2               0.078725  \n",
       "3               0.033480  \n",
       "4               0.389293  \n",
       "..                   ...  \n",
       "296             0.021821  \n",
       "297             0.393197  \n",
       "298             0.077228  \n",
       "299             0.076372  \n",
       "300             0.081987  \n",
       "\n",
       "[301 rows x 8 columns]"
      ]
     },
     "execution_count": 55,
     "metadata": {},
     "output_type": "execute_result"
    }
   ],
   "source": [
    "X_train_scaled"
   ]
  },
  {
   "cell_type": "markdown",
   "id": "d833e03d",
   "metadata": {},
   "source": [
    "### Test Data"
   ]
  },
  {
   "cell_type": "code",
   "execution_count": 56,
   "id": "78b2e197",
   "metadata": {},
   "outputs": [],
   "source": [
    "# MICE requires float values\n",
    "X_test_numerical = X_test.loc[:,numerical_features1].astype('float64')"
   ]
  },
  {
   "cell_type": "code",
   "execution_count": 57,
   "id": "a9066f8d",
   "metadata": {},
   "outputs": [
    {
     "data": {
      "text/html": [
       "<div>\n",
       "<style scoped>\n",
       "    .dataframe tbody tr th:only-of-type {\n",
       "        vertical-align: middle;\n",
       "    }\n",
       "\n",
       "    .dataframe tbody tr th {\n",
       "        vertical-align: top;\n",
       "    }\n",
       "\n",
       "    .dataframe thead th {\n",
       "        text-align: right;\n",
       "    }\n",
       "</style>\n",
       "<table border=\"1\" class=\"dataframe\">\n",
       "  <thead>\n",
       "    <tr style=\"text-align: right;\">\n",
       "      <th></th>\n",
       "      <th>capacity_mw</th>\n",
       "      <th>other_fuel1</th>\n",
       "      <th>commissioning_year</th>\n",
       "      <th>generation_gwh_2014</th>\n",
       "      <th>generation_gwh_2015</th>\n",
       "      <th>generation_gwh_2016</th>\n",
       "      <th>generation_gwh_2017</th>\n",
       "      <th>generation_gwh_2018</th>\n",
       "    </tr>\n",
       "  </thead>\n",
       "  <tbody>\n",
       "    <tr>\n",
       "      <th>300</th>\n",
       "      <td>91.80</td>\n",
       "      <td>NaN</td>\n",
       "      <td>1994.043714</td>\n",
       "      <td>1703.746947</td>\n",
       "      <td>1402.847670</td>\n",
       "      <td>1538.391042</td>\n",
       "      <td>1690.579605</td>\n",
       "      <td>1533.492455</td>\n",
       "    </tr>\n",
       "    <tr>\n",
       "      <th>301</th>\n",
       "      <td>10.50</td>\n",
       "      <td>NaN</td>\n",
       "      <td>NaN</td>\n",
       "      <td>NaN</td>\n",
       "      <td>NaN</td>\n",
       "      <td>NaN</td>\n",
       "      <td>NaN</td>\n",
       "      <td>NaN</td>\n",
       "    </tr>\n",
       "    <tr>\n",
       "      <th>302</th>\n",
       "      <td>29.60</td>\n",
       "      <td>NaN</td>\n",
       "      <td>NaN</td>\n",
       "      <td>NaN</td>\n",
       "      <td>NaN</td>\n",
       "      <td>NaN</td>\n",
       "      <td>NaN</td>\n",
       "      <td>NaN</td>\n",
       "    </tr>\n",
       "    <tr>\n",
       "      <th>303</th>\n",
       "      <td>33.00</td>\n",
       "      <td>NaN</td>\n",
       "      <td>NaN</td>\n",
       "      <td>NaN</td>\n",
       "      <td>NaN</td>\n",
       "      <td>NaN</td>\n",
       "      <td>NaN</td>\n",
       "      <td>NaN</td>\n",
       "    </tr>\n",
       "    <tr>\n",
       "      <th>304</th>\n",
       "      <td>10.25</td>\n",
       "      <td>NaN</td>\n",
       "      <td>NaN</td>\n",
       "      <td>NaN</td>\n",
       "      <td>NaN</td>\n",
       "      <td>NaN</td>\n",
       "      <td>NaN</td>\n",
       "      <td>NaN</td>\n",
       "    </tr>\n",
       "    <tr>\n",
       "      <th>...</th>\n",
       "      <td>...</td>\n",
       "      <td>...</td>\n",
       "      <td>...</td>\n",
       "      <td>...</td>\n",
       "      <td>...</td>\n",
       "      <td>...</td>\n",
       "      <td>...</td>\n",
       "      <td>...</td>\n",
       "    </tr>\n",
       "    <tr>\n",
       "      <th>902</th>\n",
       "      <td>1600.00</td>\n",
       "      <td>2</td>\n",
       "      <td>2016.000000</td>\n",
       "      <td>NaN</td>\n",
       "      <td>0.994875</td>\n",
       "      <td>233.596650</td>\n",
       "      <td>865.400000</td>\n",
       "      <td>686.500000</td>\n",
       "    </tr>\n",
       "    <tr>\n",
       "      <th>903</th>\n",
       "      <td>3.00</td>\n",
       "      <td>NaN</td>\n",
       "      <td>NaN</td>\n",
       "      <td>NaN</td>\n",
       "      <td>NaN</td>\n",
       "      <td>NaN</td>\n",
       "      <td>NaN</td>\n",
       "      <td>NaN</td>\n",
       "    </tr>\n",
       "    <tr>\n",
       "      <th>904</th>\n",
       "      <td>25.50</td>\n",
       "      <td>NaN</td>\n",
       "      <td>NaN</td>\n",
       "      <td>NaN</td>\n",
       "      <td>NaN</td>\n",
       "      <td>NaN</td>\n",
       "      <td>NaN</td>\n",
       "      <td>NaN</td>\n",
       "    </tr>\n",
       "    <tr>\n",
       "      <th>905</th>\n",
       "      <td>80.00</td>\n",
       "      <td>NaN</td>\n",
       "      <td>NaN</td>\n",
       "      <td>NaN</td>\n",
       "      <td>NaN</td>\n",
       "      <td>NaN</td>\n",
       "      <td>NaN</td>\n",
       "      <td>NaN</td>\n",
       "    </tr>\n",
       "    <tr>\n",
       "      <th>906</th>\n",
       "      <td>16.50</td>\n",
       "      <td>NaN</td>\n",
       "      <td>NaN</td>\n",
       "      <td>NaN</td>\n",
       "      <td>NaN</td>\n",
       "      <td>NaN</td>\n",
       "      <td>NaN</td>\n",
       "      <td>NaN</td>\n",
       "    </tr>\n",
       "  </tbody>\n",
       "</table>\n",
       "<p>607 rows × 8 columns</p>\n",
       "</div>"
      ],
      "text/plain": [
       "     capacity_mw other_fuel1  commissioning_year  generation_gwh_2014  \\\n",
       "300        91.80         NaN         1994.043714          1703.746947   \n",
       "301        10.50         NaN                 NaN                  NaN   \n",
       "302        29.60         NaN                 NaN                  NaN   \n",
       "303        33.00         NaN                 NaN                  NaN   \n",
       "304        10.25         NaN                 NaN                  NaN   \n",
       "..           ...         ...                 ...                  ...   \n",
       "902      1600.00           2         2016.000000                  NaN   \n",
       "903         3.00         NaN                 NaN                  NaN   \n",
       "904        25.50         NaN                 NaN                  NaN   \n",
       "905        80.00         NaN                 NaN                  NaN   \n",
       "906        16.50         NaN                 NaN                  NaN   \n",
       "\n",
       "     generation_gwh_2015  generation_gwh_2016  generation_gwh_2017  \\\n",
       "300          1402.847670          1538.391042          1690.579605   \n",
       "301                  NaN                  NaN                  NaN   \n",
       "302                  NaN                  NaN                  NaN   \n",
       "303                  NaN                  NaN                  NaN   \n",
       "304                  NaN                  NaN                  NaN   \n",
       "..                   ...                  ...                  ...   \n",
       "902             0.994875           233.596650           865.400000   \n",
       "903                  NaN                  NaN                  NaN   \n",
       "904                  NaN                  NaN                  NaN   \n",
       "905                  NaN                  NaN                  NaN   \n",
       "906                  NaN                  NaN                  NaN   \n",
       "\n",
       "     generation_gwh_2018  \n",
       "300          1533.492455  \n",
       "301                  NaN  \n",
       "302                  NaN  \n",
       "303                  NaN  \n",
       "304                  NaN  \n",
       "..                   ...  \n",
       "902           686.500000  \n",
       "903                  NaN  \n",
       "904                  NaN  \n",
       "905                  NaN  \n",
       "906                  NaN  \n",
       "\n",
       "[607 rows x 8 columns]"
      ]
     },
     "execution_count": 57,
     "metadata": {},
     "output_type": "execute_result"
    }
   ],
   "source": [
    "X_test"
   ]
  },
  {
   "cell_type": "code",
   "execution_count": null,
   "id": "49f1ccb0",
   "metadata": {},
   "outputs": [],
   "source": []
  },
  {
   "cell_type": "code",
   "execution_count": 58,
   "id": "97ac0f10",
   "metadata": {},
   "outputs": [
    {
     "name": "stderr",
     "output_type": "stream",
     "text": [
      "C:\\Users\\Usuario\\anaconda3\\envs\\spyder1\\lib\\site-packages\\pandas\\core\\indexing.py:1835: SettingWithCopyWarning: \n",
      "A value is trying to be set on a copy of a slice from a DataFrame.\n",
      "Try using .loc[row_indexer,col_indexer] = value instead\n",
      "\n",
      "See the caveats in the documentation: https://pandas.pydata.org/pandas-docs/stable/user_guide/indexing.html#returning-a-view-versus-a-copy\n",
      "  self._setitem_single_column(loc, value[:, i].tolist(), pi)\n"
     ]
    }
   ],
   "source": [
    "X_test_numerical_imputed = mice(X_test_numerical.values)\n",
    "X_test.loc[:,numerical_features1] = X_test_numerical_imputed"
   ]
  },
  {
   "cell_type": "code",
   "execution_count": 59,
   "id": "346b1932",
   "metadata": {},
   "outputs": [
    {
     "name": "stdout",
     "output_type": "stream",
     "text": [
      "Imputing row 1/607 with 1 missing, elapsed time: 0.071\n",
      "Imputing row 101/607 with 1 missing, elapsed time: 0.073\n",
      "Imputing row 201/607 with 1 missing, elapsed time: 0.075\n",
      "Imputing row 301/607 with 1 missing, elapsed time: 0.077\n",
      "Imputing row 401/607 with 0 missing, elapsed time: 0.079\n",
      "Imputing row 501/607 with 1 missing, elapsed time: 0.081\n",
      "Imputing row 601/607 with 1 missing, elapsed time: 0.083\n"
     ]
    }
   ],
   "source": [
    "X_test_imputed = pd.DataFrame(np.round(imputer.fit_transform(X_test)),columns = X_test.columns)"
   ]
  },
  {
   "cell_type": "code",
   "execution_count": 60,
   "id": "7cd122b9",
   "metadata": {},
   "outputs": [],
   "source": [
    "scaler.fit(X_test_imputed)\n",
    "X_test_scaled = scaler.transform(X_test_imputed)"
   ]
  },
  {
   "cell_type": "code",
   "execution_count": 61,
   "id": "043391e5",
   "metadata": {},
   "outputs": [],
   "source": [
    "X_test_scaled = pd.DataFrame(data=X_test_scaled, columns = X_test.columns)"
   ]
  },
  {
   "cell_type": "code",
   "execution_count": 62,
   "id": "bc4e4e12",
   "metadata": {},
   "outputs": [
    {
     "data": {
      "text/html": [
       "<div>\n",
       "<style scoped>\n",
       "    .dataframe tbody tr th:only-of-type {\n",
       "        vertical-align: middle;\n",
       "    }\n",
       "\n",
       "    .dataframe tbody tr th {\n",
       "        vertical-align: top;\n",
       "    }\n",
       "\n",
       "    .dataframe thead th {\n",
       "        text-align: right;\n",
       "    }\n",
       "</style>\n",
       "<table border=\"1\" class=\"dataframe\">\n",
       "  <thead>\n",
       "    <tr style=\"text-align: right;\">\n",
       "      <th></th>\n",
       "      <th>capacity_mw</th>\n",
       "      <th>other_fuel1</th>\n",
       "      <th>commissioning_year</th>\n",
       "      <th>generation_gwh_2014</th>\n",
       "      <th>generation_gwh_2015</th>\n",
       "      <th>generation_gwh_2016</th>\n",
       "      <th>generation_gwh_2017</th>\n",
       "      <th>generation_gwh_2018</th>\n",
       "    </tr>\n",
       "  </thead>\n",
       "  <tbody>\n",
       "    <tr>\n",
       "      <th>0</th>\n",
       "      <td>0.019328</td>\n",
       "      <td>1.0</td>\n",
       "      <td>0.736264</td>\n",
       "      <td>0.093768</td>\n",
       "      <td>0.076865</td>\n",
       "      <td>0.051241</td>\n",
       "      <td>0.050911</td>\n",
       "      <td>0.049259</td>\n",
       "    </tr>\n",
       "    <tr>\n",
       "      <th>1</th>\n",
       "      <td>0.002101</td>\n",
       "      <td>0.5</td>\n",
       "      <td>0.670330</td>\n",
       "      <td>0.107384</td>\n",
       "      <td>0.103859</td>\n",
       "      <td>0.066300</td>\n",
       "      <td>0.052786</td>\n",
       "      <td>0.052428</td>\n",
       "    </tr>\n",
       "    <tr>\n",
       "      <th>2</th>\n",
       "      <td>0.006303</td>\n",
       "      <td>0.5</td>\n",
       "      <td>0.681319</td>\n",
       "      <td>0.107761</td>\n",
       "      <td>0.104144</td>\n",
       "      <td>0.066933</td>\n",
       "      <td>0.053609</td>\n",
       "      <td>0.053418</td>\n",
       "    </tr>\n",
       "    <tr>\n",
       "      <th>3</th>\n",
       "      <td>0.006933</td>\n",
       "      <td>0.5</td>\n",
       "      <td>0.681319</td>\n",
       "      <td>0.107830</td>\n",
       "      <td>0.104208</td>\n",
       "      <td>0.067033</td>\n",
       "      <td>0.053751</td>\n",
       "      <td>0.053588</td>\n",
       "    </tr>\n",
       "    <tr>\n",
       "      <th>4</th>\n",
       "      <td>0.002101</td>\n",
       "      <td>0.5</td>\n",
       "      <td>0.670330</td>\n",
       "      <td>0.107350</td>\n",
       "      <td>0.103859</td>\n",
       "      <td>0.066267</td>\n",
       "      <td>0.052757</td>\n",
       "      <td>0.052399</td>\n",
       "    </tr>\n",
       "    <tr>\n",
       "      <th>...</th>\n",
       "      <td>...</td>\n",
       "      <td>...</td>\n",
       "      <td>...</td>\n",
       "      <td>...</td>\n",
       "      <td>...</td>\n",
       "      <td>...</td>\n",
       "      <td>...</td>\n",
       "      <td>...</td>\n",
       "    </tr>\n",
       "    <tr>\n",
       "      <th>602</th>\n",
       "      <td>0.336134</td>\n",
       "      <td>1.0</td>\n",
       "      <td>0.978022</td>\n",
       "      <td>0.062832</td>\n",
       "      <td>0.032444</td>\n",
       "      <td>0.007796</td>\n",
       "      <td>0.027458</td>\n",
       "      <td>0.025294</td>\n",
       "    </tr>\n",
       "    <tr>\n",
       "      <th>603</th>\n",
       "      <td>0.000630</td>\n",
       "      <td>0.5</td>\n",
       "      <td>0.670330</td>\n",
       "      <td>0.107213</td>\n",
       "      <td>0.103732</td>\n",
       "      <td>0.066034</td>\n",
       "      <td>0.052445</td>\n",
       "      <td>0.052031</td>\n",
       "    </tr>\n",
       "    <tr>\n",
       "      <th>604</th>\n",
       "      <td>0.005462</td>\n",
       "      <td>0.5</td>\n",
       "      <td>0.681319</td>\n",
       "      <td>0.107659</td>\n",
       "      <td>0.104081</td>\n",
       "      <td>0.066800</td>\n",
       "      <td>0.053439</td>\n",
       "      <td>0.053220</td>\n",
       "    </tr>\n",
       "    <tr>\n",
       "      <th>605</th>\n",
       "      <td>0.016807</td>\n",
       "      <td>0.5</td>\n",
       "      <td>0.681319</td>\n",
       "      <td>0.108756</td>\n",
       "      <td>0.104936</td>\n",
       "      <td>0.068599</td>\n",
       "      <td>0.055795</td>\n",
       "      <td>0.056049</td>\n",
       "    </tr>\n",
       "    <tr>\n",
       "      <th>606</th>\n",
       "      <td>0.003361</td>\n",
       "      <td>0.5</td>\n",
       "      <td>0.681319</td>\n",
       "      <td>0.107487</td>\n",
       "      <td>0.103954</td>\n",
       "      <td>0.066500</td>\n",
       "      <td>0.053041</td>\n",
       "      <td>0.052739</td>\n",
       "    </tr>\n",
       "  </tbody>\n",
       "</table>\n",
       "<p>607 rows × 8 columns</p>\n",
       "</div>"
      ],
      "text/plain": [
       "     capacity_mw  other_fuel1  commissioning_year  generation_gwh_2014  \\\n",
       "0       0.019328          1.0            0.736264             0.093768   \n",
       "1       0.002101          0.5            0.670330             0.107384   \n",
       "2       0.006303          0.5            0.681319             0.107761   \n",
       "3       0.006933          0.5            0.681319             0.107830   \n",
       "4       0.002101          0.5            0.670330             0.107350   \n",
       "..           ...          ...                 ...                  ...   \n",
       "602     0.336134          1.0            0.978022             0.062832   \n",
       "603     0.000630          0.5            0.670330             0.107213   \n",
       "604     0.005462          0.5            0.681319             0.107659   \n",
       "605     0.016807          0.5            0.681319             0.108756   \n",
       "606     0.003361          0.5            0.681319             0.107487   \n",
       "\n",
       "     generation_gwh_2015  generation_gwh_2016  generation_gwh_2017  \\\n",
       "0               0.076865             0.051241             0.050911   \n",
       "1               0.103859             0.066300             0.052786   \n",
       "2               0.104144             0.066933             0.053609   \n",
       "3               0.104208             0.067033             0.053751   \n",
       "4               0.103859             0.066267             0.052757   \n",
       "..                   ...                  ...                  ...   \n",
       "602             0.032444             0.007796             0.027458   \n",
       "603             0.103732             0.066034             0.052445   \n",
       "604             0.104081             0.066800             0.053439   \n",
       "605             0.104936             0.068599             0.055795   \n",
       "606             0.103954             0.066500             0.053041   \n",
       "\n",
       "     generation_gwh_2018  \n",
       "0               0.049259  \n",
       "1               0.052428  \n",
       "2               0.053418  \n",
       "3               0.053588  \n",
       "4               0.052399  \n",
       "..                   ...  \n",
       "602             0.025294  \n",
       "603             0.052031  \n",
       "604             0.053220  \n",
       "605             0.056049  \n",
       "606             0.052739  \n",
       "\n",
       "[607 rows x 8 columns]"
      ]
     },
     "execution_count": 62,
     "metadata": {},
     "output_type": "execute_result"
    }
   ],
   "source": [
    "X_test_scaled"
   ]
  },
  {
   "cell_type": "markdown",
   "id": "0c82ab72",
   "metadata": {},
   "source": [
    "Coal       258\n",
    "Hydro      251\n",
    "Solar      127\n",
    "Wind       123\n",
    "Gas         69\n",
    "Biomass     50\n",
    "Oil         20\n",
    "Nuclear      9"
   ]
  },
  {
   "cell_type": "code",
   "execution_count": 74,
   "id": "093a633f",
   "metadata": {},
   "outputs": [],
   "source": [
    "new_power[\"primary_fuel\"].replace({\"Coal\": 0, \"Hydro\": 1, \"Solar\": 2, \"Wind\": 3, \"Gas\": 4, \"Biomass\": 5, \"Oil\": 6, \"Nuclear\": 7}, inplace=True)"
   ]
  },
  {
   "cell_type": "code",
   "execution_count": 75,
   "id": "64503eb7",
   "metadata": {},
   "outputs": [],
   "source": [
    "y = new_power['primary_fuel']"
   ]
  },
  {
   "cell_type": "code",
   "execution_count": 76,
   "id": "c6f3c553",
   "metadata": {},
   "outputs": [
    {
     "data": {
      "text/plain": [
       "0      2\n",
       "1      0\n",
       "2      3\n",
       "3      4\n",
       "4      0\n",
       "      ..\n",
       "902    0\n",
       "903    2\n",
       "904    3\n",
       "905    0\n",
       "906    3\n",
       "Name: primary_fuel, Length: 907, dtype: int64"
      ]
     },
     "execution_count": 76,
     "metadata": {},
     "output_type": "execute_result"
    }
   ],
   "source": [
    "y"
   ]
  },
  {
   "cell_type": "code",
   "execution_count": 106,
   "id": "c151e80f",
   "metadata": {},
   "outputs": [],
   "source": [
    "y_test = y.iloc[301:907]"
   ]
  },
  {
   "cell_type": "code",
   "execution_count": 107,
   "id": "4d781ec5",
   "metadata": {},
   "outputs": [
    {
     "data": {
      "text/plain": [
       "301    3\n",
       "302    3\n",
       "303    3\n",
       "304    3\n",
       "305    1\n",
       "      ..\n",
       "902    0\n",
       "903    2\n",
       "904    3\n",
       "905    0\n",
       "906    3\n",
       "Name: primary_fuel, Length: 606, dtype: int64"
      ]
     },
     "execution_count": 107,
     "metadata": {},
     "output_type": "execute_result"
    }
   ],
   "source": [
    "y_test"
   ]
  },
  {
   "cell_type": "code",
   "execution_count": 108,
   "id": "297557f0",
   "metadata": {},
   "outputs": [],
   "source": [
    "y_train =y.iloc[0:301]"
   ]
  },
  {
   "cell_type": "code",
   "execution_count": 109,
   "id": "89cde7c4",
   "metadata": {},
   "outputs": [
    {
     "data": {
      "text/plain": [
       "0      2\n",
       "1      0\n",
       "2      3\n",
       "3      4\n",
       "4      0\n",
       "      ..\n",
       "296    1\n",
       "297    0\n",
       "298    2\n",
       "299    2\n",
       "300    3\n",
       "Name: primary_fuel, Length: 301, dtype: int64"
      ]
     },
     "execution_count": 109,
     "metadata": {},
     "output_type": "execute_result"
    }
   ],
   "source": [
    "y_train"
   ]
  },
  {
   "cell_type": "code",
   "execution_count": null,
   "id": "a528b61a",
   "metadata": {},
   "outputs": [],
   "source": []
  },
  {
   "cell_type": "code",
   "execution_count": 110,
   "id": "53104afe",
   "metadata": {},
   "outputs": [],
   "source": [
    "from sklearn.model_selection import train_test_split\n",
    "from sklearn.model_selection import KFold\n",
    "from sklearn.model_selection import cross_val_score\n",
    "from sklearn.model_selection import GridSearchCV\n",
    "from sklearn.metrics import classification_report\n",
    "from sklearn.metrics import confusion_matrix\n",
    "from sklearn.metrics import accuracy_score\n",
    "from sklearn.pipeline import Pipeline\n",
    "from sklearn.linear_model import LogisticRegression\n",
    "from sklearn.tree import DecisionTreeClassifier\n",
    "from sklearn.neighbors import KNeighborsClassifier\n",
    "from sklearn.svm import SVC"
   ]
  },
  {
   "cell_type": "code",
   "execution_count": 111,
   "id": "5a2221c5",
   "metadata": {},
   "outputs": [
    {
     "name": "stdout",
     "output_type": "stream",
     "text": [
      "LR 0.348710 0.064527 \n",
      "KNN 0.571613 0.060625 \n",
      "CART 0.554946 0.067546 \n",
      "SVM 0.468387 0.061680 \n"
     ]
    }
   ],
   "source": [
    "#evaluation - baselines\n",
    "num_folds = 10\n",
    "seed = 7\n",
    "scoring = 'accuracy'\n",
    "models = []\n",
    "models.append(('LR', LogisticRegression()))\n",
    "models.append(('KNN', KNeighborsClassifier()))\n",
    "models.append(('CART', DecisionTreeClassifier()))\n",
    "models.append(('SVM', SVC()))\n",
    "\n",
    "results = []\n",
    "names = []\n",
    "for name, model in models:\n",
    "    kfold = KFold(n_splits=num_folds, random_state=seed, shuffle=True)\n",
    "    cv_results = cross_val_score(model, X_train_scaled, y_train, cv=kfold, scoring=scoring)\n",
    "    results.append(cv_results)\n",
    "    names.append(name)\n",
    "    msg = \"%s %f %f \" % (name, cv_results.mean(), cv_results.std())\n",
    "    print(msg)"
   ]
  }
 ],
 "metadata": {
  "kernelspec": {
   "display_name": "Python 3 (ipykernel)",
   "language": "python",
   "name": "python3"
  },
  "language_info": {
   "codemirror_mode": {
    "name": "ipython",
    "version": 3
   },
   "file_extension": ".py",
   "mimetype": "text/x-python",
   "name": "python",
   "nbconvert_exporter": "python",
   "pygments_lexer": "ipython3",
   "version": "3.9.7"
  }
 },
 "nbformat": 4,
 "nbformat_minor": 5
}
